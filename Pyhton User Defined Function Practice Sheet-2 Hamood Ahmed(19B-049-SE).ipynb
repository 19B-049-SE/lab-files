{
 "cells": [
  {
   "cell_type": "code",
   "execution_count": 8,
   "metadata": {},
   "outputs": [
    {
     "name": "stdout",
     "output_type": "stream",
     "text": [
      "the area of shaded angles of a triangle is: 73.89578952378315 cm**2\n",
      "time=25 seconds\n"
     ]
    }
   ],
   "source": [
    "#Question 1: Create a function to find the following: If the base of triangle is 3 cm long and its equilateral triangle and the radius of circle is 1.5 cm then find the area of triangle shaded.\n",
    "#program no.1\n",
    "def area(r,s):\n",
    "    \n",
    "    import math\n",
    "    area_circle=math.pi*(r**2)\n",
    "    area_triangle=(((math.sqrt(3))/4)*s**2)*6\n",
    "    area_shaded=area_triangle-area_circle\n",
    "    print(\"the area of shaded angles of a triangle is:\",area_shaded,\"cm**2\")\n",
    "area(2.5,6)\n",
    "\n",
    "print('time=25 seconds')\n"
   ]
  },
  {
   "cell_type": "code",
   "execution_count": 7,
   "metadata": {},
   "outputs": [
    {
     "name": "stdout",
     "output_type": "stream",
     "text": [
      "the area of the shaded region is: 28.274333882308138 cm**2\n",
      "time=30 seconds\n"
     ]
    }
   ],
   "source": [
    "#Question 3: Create a function to find the following: If the base of triangle is 5 cm long and its equilateral triangle and the radius of circle is 2.25 cm then find the area of triangle shaded.\n",
    "#program no.2\n",
    "def area(r,b):\n",
    "    import math\n",
    "    area=(math.pi)*r**2\n",
    "    print(\"the area of the shaded region is:\",area,\"cm**2\")\n",
    "area(3,7)\n",
    "\n",
    "print('time=30 seconds')\n"
   ]
  },
  {
   "cell_type": "code",
   "execution_count": 11,
   "metadata": {},
   "outputs": [
    {
     "name": "stdout",
     "output_type": "stream",
     "text": [
      "Sorry\n",
      "2\n",
      "Sorry\n",
      "4\n",
      "Sorry\n",
      "6\n",
      "Sorry\n",
      "8\n",
      "Sorry\n",
      "10\n",
      "Sorry\n",
      "12\n",
      "Sorry\n",
      "14\n",
      "Sorry\n",
      "16\n",
      "Sorry\n",
      "18\n",
      "Sorry\n",
      "20\n",
      "Sorry\n",
      "22\n",
      "Sorry\n",
      "24\n",
      "Sorry\n",
      "26\n",
      "Sorry\n",
      "28\n",
      "Sorry\n",
      "30\n",
      "Sorry\n",
      "32\n",
      "Sorry\n",
      "34\n",
      "Sorry\n",
      "36\n",
      "Sorry\n",
      "38\n",
      "Sorry\n",
      "40\n",
      "Sorry\n",
      "42\n",
      "Sorry\n",
      "44\n",
      "Sorry\n",
      "46\n",
      "Sorry\n",
      "48\n",
      "Sorry\n",
      "50\n",
      "Sorry\n",
      "52\n",
      "Sorry\n",
      "54\n",
      "Sorry\n",
      "56\n",
      "Sorry\n",
      "58\n",
      "Sorry\n",
      "60\n",
      "Sorry\n",
      "62\n",
      "Sorry\n",
      "64\n",
      "Sorry\n",
      "66\n",
      "Sorry\n",
      "68\n",
      "Sorry\n",
      "70\n",
      "Sorry\n",
      "72\n",
      "Sorry\n",
      "74\n",
      "Sorry\n",
      "76\n",
      "Sorry\n",
      "78\n",
      "Sorry\n",
      "80\n",
      "Sorry\n",
      "82\n",
      "Sorry\n",
      "84\n",
      "time=20 seconds\n"
     ]
    }
   ],
   "source": [
    "#Question 4: Create a function that takes a list of random numbers from users and add only those which are even. If all the numbers are odd it will return sorry no even number found.\n",
    "#program no.4\n",
    "def evenodd(i,f):\n",
    "    \n",
    "    r=range(i,f)\n",
    "    for i in r:\n",
    "        SUM=0\n",
    "        if (i%2)==0:\n",
    "            Sum=SUM+i\n",
    "            print(Sum)\n",
    "        elif i%2!=0:\n",
    "            print(\"Sorry\")\n",
    "evenodd(1,85)\n",
    "\n",
    "print('time=20 seconds')\n"
   ]
  },
  {
   "cell_type": "code",
   "execution_count": 12,
   "metadata": {},
   "outputs": [
    {
     "name": "stdout",
     "output_type": "stream",
     "text": [
      "[0, 2, 4, 6, 10, 14, 78, 80]\n",
      "time=15 seconds\n"
     ]
    }
   ],
   "source": [
    "#Question 5: Write a function which can take a list of numbers and it will return sorted list.\n",
    "def sort():\n",
    "    list=[2,4,6,10,14,78,0,80]\n",
    "    result=list.sort()\n",
    "    print(list)\n",
    "sort()\n",
    "\n",
    "print('time=15 seconds')\n"
   ]
  },
  {
   "cell_type": "code",
   "execution_count": 13,
   "metadata": {},
   "outputs": [
    {
     "name": "stdout",
     "output_type": "stream",
     "text": [
      "62.88185307179586 cm**2\n",
      "time=16 seconds\n"
     ]
    }
   ],
   "source": [
    "#Question 6: Write a function that will take the radius and return the perimeter and area of circle with 5% increment.\n",
    "def area(r):\n",
    "    import math\n",
    "    p=((2*math.pi)*r)+5/100\n",
    "    print(p,\"cm**2\")\n",
    "area(10)\n",
    "\n",
    "print('time=16 seconds')\n"
   ]
  },
  {
   "cell_type": "code",
   "execution_count": 14,
   "metadata": {},
   "outputs": [
    {
     "name": "stdout",
     "output_type": "stream",
     "text": [
      "the number of consonants are: 1\n",
      "the number of consonants are: 1\n",
      "the number of vowels are: 1\n",
      "the number of consonants are: 1\n",
      "the number of vowels are: 1\n",
      "the number of consonants are: 1\n",
      "the number of consonants are: 1\n",
      "the number of consonants are: 1\n",
      "the number of consonants are: 1\n",
      "the number of vowels are: 1\n",
      "the number of consonants are: 1\n",
      "the number of vowels are: 1\n",
      "the number of consonants are: 1\n",
      "the number of consonants are: 1\n",
      "the number of consonants are: 1\n",
      "the number of consonants are: 1\n",
      "the number of consonants are: 1\n",
      "the number of consonants are: 1\n",
      "the number of consonants are: 1\n",
      "the number of vowels are: 1\n",
      "the number of consonants are: 1\n",
      "the number of vowels are: 1\n",
      "the number of consonants are: 1\n",
      "the number of vowels are: 1\n",
      "time=22 seconds\n"
     ]
    }
   ],
   "source": [
    "#Question 7: Write a function that will take the strings as argument and return number of vowels and consonants.\n",
    "def count():\n",
    "    name=\"United States Of America\"\n",
    "    for i in name:\n",
    "        if(i=='a' or i=='e' or i=='i' or i=='o' or i=='u'):\n",
    "            numbers=0\n",
    "            vowels=numbers+1\n",
    "            print('the number of vowels are:',vowels)\n",
    "        else:\n",
    "            numbers=0\n",
    "            consonants=numbers+1\n",
    "            print('the number of consonants are:',consonants)\n",
    "count()\n",
    "\n",
    "print('time=22 seconds')\n"
   ]
  },
  {
   "cell_type": "code",
   "execution_count": 16,
   "metadata": {},
   "outputs": [
    {
     "name": "stdout",
     "output_type": "stream",
     "text": [
      " The Area of rectangle is: 450\n",
      "The Perimeter of rectangle is: 90\n",
      "time=18 seconds\n"
     ]
    }
   ],
   "source": [
    "#Question 8: Write a function that will take length and breadth for a rectangle and return perimeter and area of rectangle with 8% increment.\n",
    "def rectangle():\n",
    "    width=(30)\n",
    "    height=(15)\n",
    "    area=width*height\n",
    "    perimeter=2*(width+height)\n",
    "    \n",
    "    print(\" The Area of rectangle is:\",area)\n",
    "    print(\"The Perimeter of rectangle is:\",perimeter)\n",
    "rectangle()\n",
    "\n",
    "print('time=18 seconds')\n"
   ]
  },
  {
   "cell_type": "code",
   "execution_count": 19,
   "metadata": {},
   "outputs": [
    {
     "name": "stdout",
     "output_type": "stream",
     "text": [
      "Even lists: [4, 90, 546, 58, 100, 38, 28]\n",
      "Odd lists: [3, 99, 87, 69]\n",
      "time=19 seconds\n"
     ]
    }
   ],
   "source": [
    "#Question 9: Write a function that can take the numbers in strings. From string find which number is even and which one is odd. Save them in two different lists and generate the result.\n",
    "def Split(x): \n",
    "    ev_li = [] \n",
    "    od_li = [] \n",
    "    for i in x: \n",
    "        if (i % 2 == 0): \n",
    "            ev_li.append(i) \n",
    "        else: \n",
    "            \n",
    "            od_li.append(i) \n",
    "    print(\"Even lists:\", ev_li) \n",
    "    print(\"Odd lists:\", od_li) \n",
    "  \n",
    "\n",
    "x = [3,4,90,99,546,58,100,38,28,87,69] \n",
    "Split(x)\n",
    "\n",
    "print('time=19 seconds')\n",
    "\n"
   ]
  },
  {
   "cell_type": "code",
   "execution_count": 21,
   "metadata": {},
   "outputs": [
    {
     "name": "stdout",
     "output_type": "stream",
     "text": [
      "('walking', 'running', 'eating')\n",
      "time=20 seconds\n"
     ]
    }
   ],
   "source": [
    "#Question 11: Write a function that will take verbs in words and return a list of verbs with continuous tense by adding (ing) at the end of each verb.\n",
    "def continous(a,b,c):\n",
    "    cont1=a + \"ing\"\n",
    "    cont2=b + \"ing\"\n",
    "    cont3=c + \"ing\"\n",
    "    lst=cont1,cont2,cont3\n",
    "    print(lst)\n",
    "continous('walk','runn','eat')\n",
    "\n",
    "print('time=20 seconds')\n"
   ]
  },
  {
   "cell_type": "code",
   "execution_count": 22,
   "metadata": {},
   "outputs": [
    {
     "name": "stdout",
     "output_type": "stream",
     "text": [
      "603.1857894892403 m**2\n",
      "time=17 seconds\n"
     ]
    }
   ],
   "source": [
    "#Question 12: Make a function which can take two radius of circles and find the areas of it and subtract smaller one from larger one and tell the remaining area of circle.\n",
    "def area():\n",
    "    radius_1=8\n",
    "    radius_2=16\n",
    "    import math\n",
    "    a1=(math.pi)*radius_1**2\n",
    "    a2=(math.pi)*radius_2**2\n",
    "    if a1>a2:\n",
    "        at=a1-a2\n",
    "        print(at,\"m**2\")\n",
    "    else:\n",
    "        at=a2-a1\n",
    "        print(at,\"m**2\")\n",
    "area()\n",
    "\n",
    "print('time=17 seconds')\n"
   ]
  },
  {
   "cell_type": "code",
   "execution_count": 23,
   "metadata": {},
   "outputs": [
    {
     "name": "stdout",
     "output_type": "stream",
     "text": [
      "54 m**2\n",
      "time=25 seconds\n"
     ]
    }
   ],
   "source": [
    "#Question 14: Write a function which will take length and breadth of two rectangles. Subtract the smaller rectangle from the larger rectangle and return the area left behind.\n",
    "def area():\n",
    "    l1=3\n",
    "    b1=6\n",
    "    l2=8\n",
    "    b2=9\n",
    "    import math\n",
    "    a1=l1*b1\n",
    "    a2=l2*b2\n",
    "    if a1>a2:\n",
    "        at=a1-a2\n",
    "        print(at,\"m**2\")\n",
    "    else:\n",
    "        at=a2-a1\n",
    "        print(at,\"m**2\")\n",
    "area()\n",
    "\n",
    "print('time=25 seconds')\n"
   ]
  },
  {
   "cell_type": "code",
   "execution_count": 24,
   "metadata": {},
   "outputs": [
    {
     "name": "stdout",
     "output_type": "stream",
     "text": [
      "113567/18018\n",
      "time=22 seconds\n"
     ]
    }
   ],
   "source": [
    "#Question 15: Create a function that can add the fractions in series such as 1 to 8 = 1/8+1/7+1/6+1/5 …… ½ and return the result in fraction not in decimal.\n",
    "def addf():\n",
    "    from fractions import Fraction\n",
    "    sum = 0\n",
    "    for i in range(8,17):\n",
    "        sum = sum + Fraction(8,i) \n",
    "        \n",
    "    print(sum)\n",
    "addf()\n",
    "\n",
    "print('time=22 seconds')\n"
   ]
  },
  {
   "cell_type": "code",
   "execution_count": 27,
   "metadata": {},
   "outputs": [
    {
     "name": "stdout",
     "output_type": "stream",
     "text": [
      "Enter base value : 9\n",
      "Enter height value : 28\n",
      "area =  126.0\n",
      "time=23 seconds\n"
     ]
    }
   ],
   "source": [
    "#Question 16: Write a function which will take height and base for a triangle and\n",
    "def baseheight():\n",
    "    b = int(input(\"Enter base value : \"))\n",
    "    h = int(input(\"Enter height value : \"))\n",
    "\n",
    "    area = b*h/2\n",
    "\n",
    "    print(\"area = \", area)\n",
    "baseheight()\n",
    "\n",
    "print('time=23 seconds')\n"
   ]
  },
  {
   "cell_type": "code",
   "execution_count": 28,
   "metadata": {},
   "outputs": [
    {
     "name": "stdout",
     "output_type": "stream",
     "text": [
      "1034.1149479459152 m**2\n",
      "time=23 seconds\n"
     ]
    }
   ],
   "source": [
    "#Question 18: Write a function that can take square length and radius of circle. Find the area of both and subtract the smallest shape from largest one and return the remaining shape area.\n",
    "def area(l,r):\n",
    "    import math\n",
    "    a1=(math.pi)*r**2\n",
    "    a2=l**2\n",
    "    if a1>a2:\n",
    "        at=a1-a2\n",
    "        print(at,\"m**2\")\n",
    "    else:\n",
    "        at=a2-a1\n",
    "        print(at,\"m**2\")\n",
    "area(10,19)\n",
    "\n",
    "print('time=23 seconds')\n"
   ]
  },
  {
   "cell_type": "code",
   "execution_count": null,
   "metadata": {},
   "outputs": [],
   "source": []
  }
 ],
 "metadata": {
  "kernelspec": {
   "display_name": "Python 3",
   "language": "python",
   "name": "python3"
  },
  "language_info": {
   "codemirror_mode": {
    "name": "ipython",
    "version": 3
   },
   "file_extension": ".py",
   "mimetype": "text/x-python",
   "name": "python",
   "nbconvert_exporter": "python",
   "pygments_lexer": "ipython3",
   "version": "3.7.3"
  }
 },
 "nbformat": 4,
 "nbformat_minor": 2
}
