{
 "cells": [
  {
   "cell_type": "code",
   "execution_count": null,
   "metadata": {},
   "outputs": [],
   "source": []
  },
  {
   "cell_type": "code",
   "execution_count": 3,
   "metadata": {},
   "outputs": [
    {
     "name": "stdout",
     "output_type": "stream",
     "text": [
      "Sum is: 32\n",
      "Difference is: -12\n",
      "Product is: 220\n",
      "Division is: 0.45454545454545453\n",
      "Integer Division is: 0\n",
      "Raised to the power is: 10000000000000000000000\n",
      "Remainder is: 10\n"
     ]
    }
   ],
   "source": [
    "#Program no.1:Practicing with math operators.\n",
    "\n",
    "#Math Operators in Python\n",
    "#taking two values\n",
    "\n",
    "a=10\n",
    "b=22\n",
    "\n",
    "#Using sum operator\n",
    "print(\"Sum is:\",a+b)\n",
    "#Using subtract operator\n",
    "print(\"Difference is:\",a-b)\n",
    "#Using multliplication operator\n",
    "print(\"Product is:\",a*b)\n",
    "#Using division operator\n",
    "print(\"Division is:\",a/b)\n",
    "#Using integer division operator\n",
    "print(\"Integer Division is:\",a//b)\n",
    "#Using power operator\n",
    "print(\"Raised to the power is:\",a**b)\n",
    "#Using modulo operator\n",
    "print(\"Remainder is:\",a%b)\n"
   ]
  },
  {
   "cell_type": "code",
   "execution_count": 4,
   "metadata": {},
   "outputs": [
    {
     "name": "stdout",
     "output_type": "stream",
     "text": [
      "8\n",
      "2\n",
      "15\n",
      "1.6666666666666667\n",
      "2\n",
      "1\n",
      "125\n",
      "1\n",
      "7\n",
      "6\n",
      "0\n",
      "40\n"
     ]
    }
   ],
   "source": [
    "#Program no.2:Write a program to use assignment operators.\n",
    "\n",
    "x=5\n",
    "x+=3\n",
    "print(x)\n",
    "\n",
    "x=5\n",
    "x-=3\n",
    "print(x)\n",
    "\n",
    "x=5\n",
    "x*=3\n",
    "print(x)\n",
    "\n",
    "x=5\n",
    "x/=3\n",
    "print(x)\n",
    "\n",
    "x=5\n",
    "x%=3\n",
    "print(x)\n",
    "\n",
    "x=5\n",
    "x//=3\n",
    "print(x)\n",
    "\n",
    "x=5\n",
    "x**=3\n",
    "print(x)\n",
    "\n",
    "x=5\n",
    "x&=3\n",
    "print(x)\n",
    "\n",
    "x=5\n",
    "x|=3\n",
    "print(x)\n",
    "\n",
    "x=5\n",
    "x^=3\n",
    "print(x)\n",
    "\n",
    "x=5\n",
    "x>>=3\n",
    "print(x)\n",
    "\n",
    "x=5\n",
    "x<<=3\n",
    "print(x)\n"
   ]
  },
  {
   "cell_type": "code",
   "execution_count": 5,
   "metadata": {},
   "outputs": [
    {
     "name": "stdout",
     "output_type": "stream",
     "text": [
      "X is equal to Y: False\n",
      "X is not equal to Y: True\n",
      "X is Greater than Y: True\n",
      "X is Less than Y: False\n",
      "X is Greater than or equal to Y: True\n",
      "X is Less than or equal to Y: False\n"
     ]
    }
   ],
   "source": [
    "#Program no.3:Write a program to perform comparison operators.\n",
    "\n",
    "x=20\n",
    "y=15\n",
    "\n",
    "print(\"X is equal to Y:\",x==y)\n",
    "print(\"X is not equal to Y:\",x!=y)\n",
    "print(\"X is Greater than Y:\",x>y)\n",
    "print(\"X is Less than Y:\",x<y)\n",
    "print(\"X is Greater than or equal to Y:\",x>=y)\n",
    "print(\"X is Less than or equal to Y:\",x<=y)\n"
   ]
  },
  {
   "cell_type": "code",
   "execution_count": 6,
   "metadata": {},
   "outputs": [
    {
     "name": "stdout",
     "output_type": "stream",
     "text": [
      "True\n",
      "True\n",
      "False\n"
     ]
    }
   ],
   "source": [
    "#Program no.4:Write a program to perform logical operators.\n",
    "\n",
    "x=15\n",
    "print(x>13 and x<20)\n",
    "\n",
    "x=25\n",
    "print(x>23 or x<24)\n",
    "\n",
    "x=35\n",
    "print(not(x>33 and x<40))\n"
   ]
  },
  {
   "cell_type": "code",
   "execution_count": 7,
   "metadata": {},
   "outputs": [
    {
     "name": "stdout",
     "output_type": "stream",
     "text": [
      "True\n",
      "False\n",
      "True\n"
     ]
    }
   ],
   "source": [
    "#Program no.5:Write a program to perform identity operator.\n",
    "\n",
    "x=[\"ahmed\",\"bashir\"]\n",
    "y=[\"ahmed\",\"bashir\"]\n",
    "z=x\n",
    "\n",
    "print(x is z)\n",
    "print(x is y)\n",
    "print(x==y)\n"
   ]
  },
  {
   "cell_type": "code",
   "execution_count": 8,
   "metadata": {},
   "outputs": [
    {
     "name": "stdout",
     "output_type": "stream",
     "text": [
      "False\n",
      "True\n",
      "False\n"
     ]
    }
   ],
   "source": [
    "#Program no.6:Performing is not identity operation.\n",
    "\n",
    "x=[\"ahmed\",\"bashir\"]\n",
    "y=[\"ahmed\",\"bashir\"]\n",
    "z=x\n",
    "\n",
    "print(x is not z)\n",
    "print(x is not y)\n",
    "print(x != y)\n",
    "\n"
   ]
  },
  {
   "cell_type": "code",
   "execution_count": 9,
   "metadata": {},
   "outputs": [
    {
     "name": "stdout",
     "output_type": "stream",
     "text": [
      "True\n"
     ]
    }
   ],
   "source": [
    "#Program no.7:Performing 'in' membership operation.\n",
    "\n",
    "x=[\"wasim\",\"lubaid\",\"shahroz\",\"usman\",\"faisal\",\"farhan\"]\n",
    "print(\"faisal\" in x)\n"
   ]
  },
  {
   "cell_type": "code",
   "execution_count": 10,
   "metadata": {},
   "outputs": [
    {
     "name": "stdout",
     "output_type": "stream",
     "text": [
      "True\n"
     ]
    }
   ],
   "source": [
    "#Program no.8:Performing 'not' in membership operation.\n",
    "\n",
    "x=[\"wasim\",\"lubaid\",\"shahroz\",\"usman\",\"faisal\",\"farhan\"]\n",
    "\n",
    "print(\"parkash\" not in x)\n"
   ]
  },
  {
   "cell_type": "code",
   "execution_count": 12,
   "metadata": {},
   "outputs": [
    {
     "name": "stdout",
     "output_type": "stream",
     "text": [
      "Give me a velocity to fire at(in m/sec):9\n",
      "Give me angle to fire at:11\n",
      "Give me how far away you are from the structure:7\n",
      "Give me the height of the structure(in meters):6\n"
     ]
    }
   ],
   "source": [
    "#program no.9:You are planning to throw a small bird at a distance d,with time t,and height h to some structure.Write a code in which you will use the physical quantities such as initial velocity,final velocity,angle in radians,gravity,height,sling shot etc.\n",
    "\n",
    "import math\n",
    "#User inputs\n",
    "velocity=float(input('Give me a velocity to fire at(in m/sec):'))\n",
    "angle=float(input('Give me angle to fire at:'))\n",
    "distance=float(input('Give me how far away you are from the structure:'))\n",
    "height=float(input('Give me the height of the structure(in meters):'))\n",
    "slingshot=5 #Height of slingshot in meters\n",
    "gravity=9.8 #Earth gravity\n",
    "\n",
    "#Converting angles to radians\n",
    "angleRad =math.radians(angle)\n",
    "\n",
    "#Computing our x and y coordinate\n",
    "x =math.cos(angleRad)\n",
    "y =math.sin(angleRad)\n",
    "\n",
    "#Calculations\n",
    "time =distance/(velocity*x)\n",
    "vx=x\n",
    "vy=y+(-9.8*time)\n",
    "finalVelocity=math.sqrt((vx**2)+(vy**2))\n"
   ]
  },
  {
   "cell_type": "code",
   "execution_count": 9,
   "metadata": {},
   "outputs": [
    {
     "name": "stdout",
     "output_type": "stream",
     "text": [
      "enter the radius(r) in meter:0.5\n",
      "enter the angular velocity(w) in rad/sec:10\n",
      "The linear velocity(v) of a point located is: 5.0 m/sec\n",
      "enter the radius(r) in meter:1\n",
      "enter the angular velocity(w) in rad/sec:10\n",
      "The linear velocity(v) of a point located is: 10.0 m/sec\n",
      "enter the radius(r) in meter:3\n",
      "enter the angular velocity(w) in rad/sec:10\n",
      "The linear velocity(v) of a point located is: 30.0 m/sec\n"
     ]
    }
   ],
   "source": [
    "#programming Exercise\n",
    "#program no.1 part(a)\n",
    "radius=float(input(\"enter the radius(r) in meter:\"))\n",
    "w=float(input(\"enter the angular velocity(w) in rad/sec:\"))\n",
    "(v)=(radius * w)\n",
    "print(\"The linear velocity(v) of a point located is:\",v,\"m/sec\")\n",
    "\n",
    "#program no.1 part(b)\n",
    "radius=float(input(\"enter the radius(r) in meter:\"))\n",
    "w=float(input(\"enter the angular velocity(w) in rad/sec:\"))\n",
    "(v)=(radius * w)\n",
    "print(\"The linear velocity(v) of a point located is:\",v,\"m/sec\")\n",
    "\n",
    "#program no.1 part(c)\n",
    "radius=float(input(\"enter the radius(r) in meter:\"))\n",
    "w=float(input(\"enter the angular velocity(w) in rad/sec:\"))\n",
    "(v)=(radius * w)\n",
    "print(\"The linear velocity(v) of a point located is:\",v,\"m/sec\")\n"
   ]
  },
  {
   "cell_type": "code",
   "execution_count": 8,
   "metadata": {},
   "outputs": [
    {
     "name": "stdout",
     "output_type": "stream",
     "text": [
      "enter the radius(r) in meter:0.3\n",
      "enter the linear velocity(v) in m/sec:10\n",
      "the magnitude of the angular velocity(w) is: 33.333333333333336 rad/sec\n"
     ]
    }
   ],
   "source": [
    "#program no.3\n",
    "radius=float(input(\"enter the radius(r) in meter:\"))\n",
    "v=float(input(\"enter the linear velocity(v) in m/sec:\"))\n",
    "w=(v/radius)\n",
    "print(\"the magnitude of the angular velocity(w) is:\",w,\"rad/sec\")\n",
    "\n"
   ]
  },
  {
   "cell_type": "code",
   "execution_count": 7,
   "metadata": {},
   "outputs": [
    {
     "name": "stdout",
     "output_type": "stream",
     "text": [
      "enter the radius(r) in meter:0.05\n",
      "enter the angular velocity(w) in rad/sec:523.3\n",
      "The magnitude of the linear velocity is: 26.165 m/sec\n",
      "enter the radius(r) in meter:0.10\n",
      "enter the angular velocity(w) in rad/sec:523.3\n",
      "The magnitude of the linear velocity is: 52.33 m/sec\n"
     ]
    }
   ],
   "source": [
    "#program no.2 part-(a)\n",
    "radius=float(input(\"enter the radius(r) in meter:\"))\n",
    "w=float(input(\"enter the angular velocity(w) in rad/sec:\"))\n",
    "(v)=(w * radius)\n",
    "print(\"The magnitude of the linear velocity is:\",v,\"m/sec\")\n",
    "\n",
    "#program no.2 part-(b)\n",
    "radius=float(input(\"enter the radius(r) in meter:\"))\n",
    "w=float(input(\"enter the angular velocity(w) in rad/sec:\"))\n",
    "(v)=(w * radius)\n",
    "print(\"The magnitude of the linear velocity is:\",v,\"m/sec\")\n",
    "\n"
   ]
  },
  {
   "cell_type": "code",
   "execution_count": 6,
   "metadata": {},
   "outputs": [
    {
     "name": "stdout",
     "output_type": "stream",
     "text": [
      "enter the radius(r) in meter:0.25\n",
      "enter the linear velocity(v) in m/sec:10\n",
      "the angular velocity of the wheel of a car is: 40.0 rad/sec\n"
     ]
    }
   ],
   "source": [
    "#program-4\n",
    "radius=float(input(\"enter the radius(r) in meter:\"))\n",
    "v=float(input(\"enter the linear velocity(v) in m/sec:\"))\n",
    "(w)=(v/radius)\n",
    "print(\"the angular velocity of the wheel of a car is:\",w,\"rad/sec\")\n",
    "\n"
   ]
  },
  {
   "cell_type": "code",
   "execution_count": 5,
   "metadata": {},
   "outputs": [
    {
     "name": "stdout",
     "output_type": "stream",
     "text": [
      "enter the radius(r) in meter:0.2\n",
      "enter the angular velocity(w) in rad/sec:12.56\n",
      "The linear velocity of a wheel is: 2.5120000000000005 m/sec\n",
      "enter the time(t) in seconds:10\n",
      "the distance of the car is if it travels in  10 seconds: 25.120000000000005 meters\n"
     ]
    }
   ],
   "source": [
    "#program-5\n",
    "radius=float(input(\"enter the radius(r) in meter:\"))\n",
    "w=float(input(\"enter the angular velocity(w) in rad/sec:\"))\n",
    "(v)=(w * radius)\n",
    "print(\"The linear velocity of a wheel is:\",v,\"m/sec\")\n",
    "\n",
    "time=float(input(\"enter the time(t) in seconds:\"))\n",
    "(s)=(v * time)\n",
    "print(\"the distance of the car is if it travels in  10 seconds:\",s,\"meters\")\n"
   ]
  },
  {
   "cell_type": "code",
   "execution_count": 1,
   "metadata": {},
   "outputs": [
    {
     "name": "stdout",
     "output_type": "stream",
     "text": [
      "enter the velocity (in miles/hour):50\n",
      "enter the acceleration (in miles/hour**2):10\n",
      "enter the time (in hours):2\n",
      "120.0 miles\n"
     ]
    }
   ],
   "source": [
    "#program-6\n",
    "v=float(input(\"enter the velocity (in miles/hour):\"))\n",
    "acc=float(input(\"enter the acceleration (in miles/hour**2):\"))\n",
    "time=float(input(\"enter the time (in hours):\"))\n",
    "s = (v*time)+ 1/2* (acc*time**2)\n",
    "print(s,\"miles\")\n"
   ]
  },
  {
   "cell_type": "code",
   "execution_count": 2,
   "metadata": {},
   "outputs": [
    {
     "name": "stdout",
     "output_type": "stream",
     "text": [
      "enter the height (in ft):100\n",
      "enter the gravity (in ft/sec):32\n",
      "enter the initial velocity (in ft/sec):0\n",
      "80.0 ft/sec\n"
     ]
    }
   ],
   "source": [
    "#program-7\n",
    "from math import sqrt\n",
    "\n",
    "h=float(input(\"enter the height (in ft):\"))\n",
    "g=float(input(\"enter the gravity (in ft/sec):\"))\n",
    "u=float(input(\"enter the initial velocity (in ft/sec):\"))\n",
    "v_squared=(2*g*h+u)\n",
    "v=sqrt(v_squared)\n",
    "print(v,\"ft/sec\")\n"
   ]
  },
  {
   "cell_type": "code",
   "execution_count": null,
   "metadata": {},
   "outputs": [],
   "source": []
  },
  {
   "cell_type": "code",
   "execution_count": null,
   "metadata": {},
   "outputs": [],
   "source": []
  }
 ],
 "metadata": {
  "kernelspec": {
   "display_name": "Python 3",
   "language": "python",
   "name": "python3"
  },
  "language_info": {
   "codemirror_mode": {
    "name": "ipython",
    "version": 3
   },
   "file_extension": ".py",
   "mimetype": "text/x-python",
   "name": "python",
   "nbconvert_exporter": "python",
   "pygments_lexer": "ipython3",
   "version": "3.7.3"
  }
 },
 "nbformat": 4,
 "nbformat_minor": 2
}
