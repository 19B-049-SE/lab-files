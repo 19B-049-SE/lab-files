{
 "cells": [
  {
   "cell_type": "code",
   "execution_count": 1,
   "metadata": {},
   "outputs": [
    {
     "name": "stdout",
     "output_type": "stream",
     "text": [
      "The value of a is equal to 400\n",
      "The value of a is less than b\n",
      "The value of a is not equal to b\n",
      "The value of a is less than or equal to b\n"
     ]
    }
   ],
   "source": [
    "#program no.1:practicing with simple if condition.Execute the following program with a=400 and b=500.Then change the value of a=500 and b=400.\n",
    "\n",
    "a=400\n",
    "b=500\n",
    "if a==400:\n",
    "    print(\"The value of a is equal to 400\")\n",
    "if a<b:\n",
    "    print(\"The value of a is less than b\")\n",
    "if a>b:\n",
    "    print(\"The value of a is greater than b\")\n",
    "if a!=b:\n",
    "    print(\"The value of a is not equal to b\")\n",
    "if a<=b:\n",
    "    print(\"The value of a is less than or equal to b\")\n",
    "if a>=b:\n",
    "    print(\"The value of a is greater than or equal to b\")\n",
    "    "
   ]
  },
  {
   "cell_type": "code",
   "execution_count": 2,
   "metadata": {},
   "outputs": [
    {
     "name": "stdout",
     "output_type": "stream",
     "text": [
      "At least one of the conditions are True\n"
     ]
    }
   ],
   "source": [
    "#program no.2:Practicing with simple if conditions if both conditions are true using AND operator.\n",
    "\n",
    "a=10\n",
    "b=5\n",
    "c=20\n",
    "\n",
    "if a>b and c>a:\n",
    " print(\"At least one of the conditions are True\")\n",
    "\n"
   ]
  },
  {
   "cell_type": "code",
   "execution_count": 3,
   "metadata": {},
   "outputs": [
    {
     "name": "stdout",
     "output_type": "stream",
     "text": [
      "At least one of the conditions are True\n"
     ]
    }
   ],
   "source": [
    "#program no.3:Practicing with simple if condition if any of the condition is true using OR operator.\n",
    "\n",
    "a=105\n",
    "b=50\n",
    "c=200\n",
    "\n",
    "if a>b or a>c:\n",
    " print(\"At least one of the conditions are True\") \n"
   ]
  },
  {
   "cell_type": "code",
   "execution_count": 4,
   "metadata": {},
   "outputs": [
    {
     "name": "stdout",
     "output_type": "stream",
     "text": [
      "Enter lower limit range:150\n",
      "Enter upper limit range:115\n",
      "Prime numbers between 150 and 115 are:\n"
     ]
    }
   ],
   "source": [
    "#program no.4:Write a program which takes the lower limit and upper limit then find which of the number are prime number.\n",
    "\n",
    "#Python program to display all the prime numbers within the interval\n",
    "\n",
    "l_limit=int(input(\"Enter lower limit range:\"))\n",
    "u_limit=int(input(\"Enter upper limit range:\"))\n",
    "\n",
    "print(\"Prime numbers between\",l_limit,\"and\",u_limit,\"are:\")\n",
    "for number in range(l_limit,u_limit+1):\n",
    "    \n",
    "    if number>1:\n",
    "        \n",
    "        for i in range(2,number):\n",
    "         if(number%i)==0:\n",
    "          break\n",
    "        \n",
    "         else:\n",
    "            print(number)\n",
    "            \n",
    "            "
   ]
  },
  {
   "cell_type": "code",
   "execution_count": 5,
   "metadata": {},
   "outputs": [
    {
     "name": "stdout",
     "output_type": "stream",
     "text": [
      "Enter the initial value for the range:250\n",
      "Enter the final value for the range:150\n",
      "The sum is 0\n"
     ]
    }
   ],
   "source": [
    "#program no.5:Write a program which takes the initial and final values from the user then print the sum of all the number.\n",
    "\n",
    "initial_value=eval(input(\"Enter the initial value for the range:\"))\n",
    "final_value=eval(input(\"Enter the final value for the range:\"))\n",
    "numbers=range(initial_value,final_value)\n",
    "sum=0\n",
    "\n",
    "for value in numbers:\n",
    "    sum=sum+value\n",
    "    \n",
    "print(\"The sum is\",sum)\n"
   ]
  },
  {
   "cell_type": "code",
   "execution_count": 6,
   "metadata": {},
   "outputs": [
    {
     "name": "stdout",
     "output_type": "stream",
     "text": [
      "Input number of rows:5\n",
      "Input number of columns:5\n",
      "[[0, 0, 0, 0, 0], [0, 1, 2, 3, 4], [0, 2, 4, 6, 8], [0, 3, 6, 9, 12], [0, 4, 8, 12, 16]]\n"
     ]
    }
   ],
   "source": [
    "#program no.6:Write a program which takes the number of rows and columns from the user and generate the values in form of list.\n",
    "\n",
    "row_num=int(input(\"Input number of rows:\"))\n",
    "col_num=int(input(\"Input number of columns:\"))\n",
    "multi_list=[[0 for col in range(col_num)]for row in range(row_num)]\n",
    "\n",
    "for row in range(row_num):\n",
    "   for col in range(col_num):\n",
    "      multi_list[row][col]=row*col\n",
    "        \n",
    "print(multi_list)\n"
   ]
  },
  {
   "cell_type": "code",
   "execution_count": 7,
   "metadata": {},
   "outputs": [
    {
     "name": "stdout",
     "output_type": "stream",
     "text": [
      "Type of 300  is  <class 'int'>\n",
      "Type of 12.65  is  <class 'float'>\n",
      "Type of (5+6j)  is  <class 'complex'>\n",
      "Type of True  is  <class 'bool'>\n",
      "Type of Hamood  is  <class 'str'>\n",
      "Type of (5, -7)  is  <class 'tuple'>\n",
      "Type of [8, 52]  is  <class 'list'>\n",
      "Type of {'color': 'red'}  is  <class 'dict'>\n"
     ]
    }
   ],
   "source": [
    "#program no.7:Write a program which will check the data type of given data in a loop.\n",
    "\n",
    "datalist=[300,12.65,5+6j,True,'Hamood',(5,-7),[8,52],{\"color\":'blue',\"color\":'red'}]\n",
    "for item in datalist:\n",
    "    print(\"Type of\",item,\" is \",type(item))\n",
    "    "
   ]
  },
  {
   "cell_type": "code",
   "execution_count": 8,
   "metadata": {},
   "outputs": [
    {
     "name": "stdout",
     "output_type": "stream",
     "text": [
      "\t\t\t ASCII Character\n",
      "0 = \u0000\t1 = \u0001\t2 = \u0002\t3 = \u0003\t4 = \u0004\t5 = \u0005\t6 = \u0006\t7 = \u0007\t8 = \b\t9 = \t\t10 = \n",
      "\t11 = \u000b",
      "\t12 = \f",
      "\t13 = \r",
      "\t14 = \u000e\t15 = \u000f\t16 = \u0010\t17 = \u0011\t18 = \u0012\t19 = \u0013\t20 = \u0014\t21 = \u0015\t22 = \u0016\t23 = \u0017\t24 = \u0018\t25 = \u0019\t26 = \u001a\t27 = \u001b\t28 = \u001c",
      "\t29 = \u001d",
      "\t30 = \u001e",
      "\t31 = \u001f\t32 =  \t33 = !\t34 = \"\t35 = #\t36 = $\t37 = %\t38 = &\t39 = '\t40 = (\t41 = )\t42 = *\t43 = +\t44 = ,\t45 = -\t46 = .\t47 = /\t48 = 0\t49 = 1\t50 = 2\t51 = 3\t52 = 4\t53 = 5\t54 = 6\t55 = 7\t56 = 8\t57 = 9\t58 = :\t59 = ;\t60 = <\t61 = =\t62 = >\t63 = ?\t64 = @\t65 = A\t66 = B\t67 = C\t68 = D\t69 = E\t70 = F\t71 = G\t72 = H\t73 = I\t74 = J\t75 = K\t76 = L\t77 = M\t78 = N\t79 = O\t80 = P\t81 = Q\t82 = R\t83 = S\t84 = T\t85 = U\t86 = V\t87 = W\t88 = X\t89 = Y\t90 = Z\t91 = [\t92 = \\\t93 = ]\t94 = ^\t95 = _\t96 = `\t97 = a\t98 = b\t99 = c\t100 = d\t101 = e\t102 = f\t103 = g\t104 = h\t105 = i\t106 = j\t107 = k\t108 = l\t109 = m\t110 = n\t111 = o\t112 = p\t113 = q\t114 = r\t115 = s\t116 = t\t117 = u\t118 = v\t119 = w\t120 = x\t121 = y\t122 = z\t123 = {\t124 = |\t125 = }\t126 = ~\t127 = \t128 = \t129 = \t130 = \t131 = \t132 = \t133 = ",
      "\t134 = \t135 = \t136 = \t137 = \t138 = \t139 = \t140 = \t141 = \t142 = \t143 = \t144 = \t145 = \t146 = \t147 = \t148 = \t149 = \t150 = \t151 = \t152 = \t153 = \t154 = \t155 = \t156 = \t157 = \t158 = \t159 = \t160 =  \t161 = ¡\t162 = ¢\t163 = £\t164 = ¤\t165 = ¥\t166 = ¦\t167 = §\t168 = ¨\t169 = ©\t170 = ª\t171 = «\t172 = ¬\t173 = ­\t174 = ®\t175 = ¯\t176 = °\t177 = ±\t178 = ²\t179 = ³\t180 = ´\t181 = µ\t182 = ¶\t183 = ·\t184 = ¸\t185 = ¹\t186 = º\t187 = »\t188 = ¼\t189 = ½\t190 = ¾\t191 = ¿\t192 = À\t193 = Á\t194 = Â\t195 = Ã\t196 = Ä\t197 = Å\t198 = Æ\t199 = Ç\t200 = È\t201 = É\t202 = Ê\t203 = Ë\t204 = Ì\t205 = Í\t206 = Î\t207 = Ï\t208 = Ð\t209 = Ñ\t210 = Ò\t211 = Ó\t212 = Ô\t213 = Õ\t214 = Ö\t215 = ×\t216 = Ø\t217 = Ù\t218 = Ú\t219 = Û\t220 = Ü\t221 = Ý\t222 = Þ\t223 = ß\t224 = à\t225 = á\t226 = â\t227 = ã\t228 = ä\t229 = å\t230 = æ\t231 = ç\t232 = è\t233 = é\t234 = ê\t235 = ë\t236 = ì\t237 = í\t238 = î\t239 = ï\t240 = ð\t241 = ñ\t242 = ò\t243 = ó\t244 = ô\t245 = õ\t246 = ö\t247 = ÷\t248 = ø\t249 = ù\t250 = ú\t251 = û\t252 = ü\t253 = ý\t254 = þ\t255 = ÿ\t\n",
      "\n"
     ]
    }
   ],
   "source": [
    "#program no.8:Write a program to generate ASCII Chart from 0 to 256.\n",
    "\n",
    "print(\"\\t\\t\\t ASCII Character\")\n",
    "\n",
    "for i in range(0,256):\n",
    "    print(i,\"=\",chr(i),end=\"\\t\")#end=\"\\t\" is used to place a tab after the displayed string instead of a newline.\n",
    "print(\"\\n\")\n"
   ]
  },
  {
   "cell_type": "code",
   "execution_count": 9,
   "metadata": {},
   "outputs": [
    {
     "name": "stdout",
     "output_type": "stream",
     "text": [
      "Python program to convert decimal number into binary,octal and hexadecimal number system\n",
      "The decimal value of 0 is: binary its: 0b0 in octal its: 0o0 and in Hexa-Decimal its: 0x0\n",
      "The decimal value of 1 is: binary its: 0b1 in octal its: 0o1 and in Hexa-Decimal its: 0x1\n",
      "The decimal value of 2 is: binary its: 0b10 in octal its: 0o2 and in Hexa-Decimal its: 0x2\n",
      "The decimal value of 3 is: binary its: 0b11 in octal its: 0o3 and in Hexa-Decimal its: 0x3\n",
      "The decimal value of 4 is: binary its: 0b100 in octal its: 0o4 and in Hexa-Decimal its: 0x4\n",
      "The decimal value of 5 is: binary its: 0b101 in octal its: 0o5 and in Hexa-Decimal its: 0x5\n",
      "The decimal value of 6 is: binary its: 0b110 in octal its: 0o6 and in Hexa-Decimal its: 0x6\n",
      "The decimal value of 7 is: binary its: 0b111 in octal its: 0o7 and in Hexa-Decimal its: 0x7\n",
      "The decimal value of 8 is: binary its: 0b1000 in octal its: 0o10 and in Hexa-Decimal its: 0x8\n",
      "The decimal value of 9 is: binary its: 0b1001 in octal its: 0o11 and in Hexa-Decimal its: 0x9\n",
      "The decimal value of 10 is: binary its: 0b1010 in octal its: 0o12 and in Hexa-Decimal its: 0xa\n",
      "The decimal value of 11 is: binary its: 0b1011 in octal its: 0o13 and in Hexa-Decimal its: 0xb\n",
      "The decimal value of 12 is: binary its: 0b1100 in octal its: 0o14 and in Hexa-Decimal its: 0xc\n",
      "The decimal value of 13 is: binary its: 0b1101 in octal its: 0o15 and in Hexa-Decimal its: 0xd\n",
      "The decimal value of 14 is: binary its: 0b1110 in octal its: 0o16 and in Hexa-Decimal its: 0xe\n",
      "The decimal value of 15 is: binary its: 0b1111 in octal its: 0o17 and in Hexa-Decimal its: 0xf\n",
      "The decimal value of 16 is: binary its: 0b10000 in octal its: 0o20 and in Hexa-Decimal its: 0x10\n",
      "That's the end of the program with range from 1 to 16\n"
     ]
    }
   ],
   "source": [
    "#program no.9:Write a program to convert digital number from 0 to 16 into binary,octal and hexa-decimal number system.\n",
    "\n",
    "print(\"Python program to convert decimal number into binary,octal and hexadecimal number system\")\n",
    "\n",
    "for i in range(0,17):\n",
    "  print(\"The decimal value of\",i,\"is:\",\"binary its:\",bin(i),\"in octal its:\",oct(i),\"and in Hexa-Decimal its:\",hex(i))\n",
    "print(\"That's the end of the program with range from 1 to 16\")\n"
   ]
  },
  {
   "cell_type": "code",
   "execution_count": 10,
   "metadata": {},
   "outputs": [
    {
     "name": "stdout",
     "output_type": "stream",
     "text": [
      "\n",
      "*\n",
      "**\n",
      "***\n",
      "****\n",
      "*****\n",
      "****\n",
      "***\n",
      "**\n",
      "*\n"
     ]
    }
   ],
   "source": [
    "#program no.10:Write a python program to construct the following pattern,using a nested for loop.\n",
    "\n",
    "n=5;\n",
    "for i in range(n):\n",
    "    for j in range(i):\n",
    "        print('*',end=\"\")\n",
    "    print(\"\")\n",
    "       \n",
    "for i in range(n,0,-1):\n",
    "        for j in range(i):\n",
    "                 print('*',end=\"\")\n",
    "        print(\"\")\n",
    "       "
   ]
  },
  {
   "cell_type": "code",
   "execution_count": 11,
   "metadata": {},
   "outputs": [
    {
     "name": "stdout",
     "output_type": "stream",
     "text": [
      "This program will count total number of vowels from user defined sentence\n",
      "Enter your string:sameer\n",
      "Number of vowels are:\n",
      "3\n"
     ]
    }
   ],
   "source": [
    "#program no.11:Write a program which calculates the vowels from the given string.\n",
    "\n",
    "print(\"This program will count total number of vowels from user defined sentence\")\n",
    "string=input(\"Enter your string:\")\n",
    "vowels=0\n",
    "for i in string:\n",
    "    if(i=='a' or i=='e' or i=='i' or i=='o' or i=='u' or i=='A' or i=='E' or i=='I' or i=='O' or i=='U'):\n",
    "         vowels=vowels+1\n",
    "print(\"Number of vowels are:\")\n",
    "print(vowels)\n"
   ]
  },
  {
   "cell_type": "code",
   "execution_count": 12,
   "metadata": {},
   "outputs": [
    {
     "name": "stdout",
     "output_type": "stream",
     "text": [
      "(-5+16.852299546352718j)\n",
      "(-5-16.852299546352718j)\n"
     ]
    }
   ],
   "source": [
    "#programming exercise\n",
    "#program no.1\n",
    "import cmath\n",
    "a=4\n",
    "b=5\n",
    "c=6\n",
    "d=(b**2)-(4*a*c)\n",
    "x1=(-b+cmath.sqrt(d)/2*a)\n",
    "x2=(-b-cmath.sqrt(d)/2*a)\n",
    "if a!=0:\n",
    "    print(x1)\n",
    "    print(x2)\n",
    "else:\n",
    "    print(\"the equation cannot be solved\")\n",
    "    "
   ]
  },
  {
   "cell_type": "code",
   "execution_count": 42,
   "metadata": {},
   "outputs": [
    {
     "name": "stdout",
     "output_type": "stream",
     "text": [
      "[19, 21, 23]\n",
      "[41, 53, 51]\n",
      "[59, 70, 73]\n"
     ]
    }
   ],
   "source": [
    "#program no.6\n",
    "A=[[13,14,15],[16,17,18],[19,20,21]]\n",
    "B=[[6,7,8],[25,36,33],[40,50,52]]\n",
    "result=[[0,0,0],[0,0,0],[0,0,0]]\n",
    "\n",
    "#iterate through rows:\n",
    "for i in range(len(A)):\n",
    "                           \n",
    "#iterate through columns:        \n",
    "    for j in range(len(B[0])):\n",
    "    \n",
    "        result[i][j]=A[i][j] + B[i][j]\n",
    "    \n",
    "for r in result:\n",
    "    print(r)\n",
    "\n",
    "    "
   ]
  },
  {
   "cell_type": "code",
   "execution_count": 43,
   "metadata": {},
   "outputs": [
    {
     "name": "stdout",
     "output_type": "stream",
     "text": [
      "[335, 680, 1140]\n",
      "[952, 1330, 3354]\n",
      "[2380, 4500, 3705]\n"
     ]
    }
   ],
   "source": [
    "#program no.7\n",
    "A=[[5,8,12],[28,35,43],[68,100,57]]\n",
    "B=[[67,85,95],[34,38,78],[35,45,65]]\n",
    "result=[[0,0,0],[0,0,0],[0,0,0]]\n",
    "\n",
    "#for iteration of rows:\n",
    "for i in range(len(A)):\n",
    "    \n",
    "#for iteration of columns:\n",
    "   for j in range(len(B[0])):\n",
    "         \n",
    "        result[i][j]=A[i][j] * B[i][j]\n",
    "        \n",
    "for r in result:\n",
    "   print(r)\n",
    "        "
   ]
  },
  {
   "cell_type": "code",
   "execution_count": 33,
   "metadata": {},
   "outputs": [
    {
     "name": "stdout",
     "output_type": "stream",
     "text": [
      "Name: Hamood Ahmed\n",
      "Father's Name: Shahab Ahmed\n",
      "ROLL.NO: 307045\n",
      "Maths: 78\n",
      "English: 95\n",
      "Islamiat: 85\n",
      "Physics: 72\n",
      "Urdu: 84\n",
      "Total marks is: 414\n",
      "Grade is:A+\n",
      "Percentage: 92.0 %\n"
     ]
    }
   ],
   "source": [
    "#program no.4\n",
    "name=(\"Hamood Ahmed\")\n",
    "f_name=(\"Shahab Ahmed\")\n",
    "roll_No=(\"307045\")\n",
    "(subj_1)=(78)\n",
    "(subj_2)=(95)\n",
    "(subj_3)=(85)\n",
    "(subj_4)=(72)\n",
    "(subj_5)=(84)\n",
    "Total_Marks=(subj_1+subj_2+subj_3+subj_4+subj_5)\n",
    "percentage=((Total_Marks/450)*100)\n",
    "print(\"Name:\",name)\n",
    "print(\"Father's Name:\",f_name)\n",
    "print(\"ROLL.NO:\",roll_No)\n",
    "print(\"Maths:\",subj_1)\n",
    "print(\"English:\",subj_2)\n",
    "print(\"Islamiat:\",subj_3)\n",
    "print(\"Physics:\",subj_4)\n",
    "print(\"Urdu:\",subj_5)\n",
    "print(\"Total marks is:\",Total_Marks)\n",
    "if percentage>79:\n",
    "    print(\"Grade is:A+\")\n",
    "else:\n",
    "    print(\"Grade is:A\")\n",
    "print(\"Percentage:\",percentage,'%')\n",
    "\n"
   ]
  },
  {
   "cell_type": "code",
   "execution_count": 44,
   "metadata": {},
   "outputs": [
    {
     "name": "stdout",
     "output_type": "stream",
     "text": [
      "12345\t\n",
      "246810\t\n",
      "3691215\t\n",
      "48121620\t\n",
      "510152025\t\n"
     ]
    }
   ],
   "source": [
    "#program no.5\n",
    "for i in range(1,6):\n",
    "    for j in range(1,6):\n",
    "        p=i*j\n",
    "        print(p,end=(''))\n",
    "    print(\"\\t\")\n",
    "      "
   ]
  },
  {
   "cell_type": "code",
   "execution_count": 15,
   "metadata": {},
   "outputs": [
    {
     "name": "stdout",
     "output_type": "stream",
     "text": [
      "enter the value of first term:3\n",
      "enter the value of common difference:6\n",
      "enter the value of number of terms:45\n",
      "267\n",
      "enter the value of first term:3\n",
      "enter the value of common difference:6\n",
      "enter the value of number of terms:35\n",
      "207\n",
      "enter the value of first term:3\n",
      "enter the value of common difference:6\n",
      "enter the value of number of terms:96\n",
      "573\n"
     ]
    }
   ],
   "source": [
    "#program no.2\n",
    "#a)\n",
    "a1=int(input('enter the value of first term:'))\n",
    "d=int(input('enter the value of common difference:'))\n",
    "n=int(input('enter the value of number of terms:'))\n",
    "an=a1+(n-1)*d\n",
    "print(an)\n",
    "\n",
    "#b)\n",
    "a1=int(input('enter the value of first term:'))\n",
    "d=int(input('enter the value of common difference:'))\n",
    "n=int(input('enter the value of number of terms:'))\n",
    "an=a1+(n-1)*d\n",
    "print(an)\n",
    "\n",
    "#c)\n",
    "a1=int(input('enter the value of first term:'))\n",
    "d=int(input('enter the value of common difference:'))\n",
    "n=int(input('enter the value of number of terms:'))\n",
    "an=a1+(n-1)*d\n",
    "print(an)\n"
   ]
  },
  {
   "cell_type": "code",
   "execution_count": 27,
   "metadata": {},
   "outputs": [
    {
     "name": "stdout",
     "output_type": "stream",
     "text": [
      "Your string is palindrome\n"
     ]
    }
   ],
   "source": [
    "#program no.3\n",
    "str1=(\"mom\")\n",
    "str2=str1.casefold()\n",
    "stringR=reversed(str1)\n",
    "if list(str1)==list(stringR):\n",
    "   print(\"Your string is palindrome\")\n",
    "else:\n",
    "   print(\"Your string is not palindrome\")\n"
   ]
  },
  {
   "cell_type": "code",
   "execution_count": null,
   "metadata": {},
   "outputs": [],
   "source": []
  }
 ],
 "metadata": {
  "kernelspec": {
   "display_name": "Python 3",
   "language": "python",
   "name": "python3"
  },
  "language_info": {
   "codemirror_mode": {
    "name": "ipython",
    "version": 3
   },
   "file_extension": ".py",
   "mimetype": "text/x-python",
   "name": "python",
   "nbconvert_exporter": "python",
   "pygments_lexer": "ipython3",
   "version": "3.7.3"
  }
 },
 "nbformat": 4,
 "nbformat_minor": 2
}
