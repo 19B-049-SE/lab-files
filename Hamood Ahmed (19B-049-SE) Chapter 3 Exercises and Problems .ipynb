{
 "cells": [
  {
   "cell_type": "markdown",
   "metadata": {},
   "source": [
    "# 3.1"
   ]
  },
  {
   "cell_type": "code",
   "execution_count": 2,
   "metadata": {},
   "outputs": [
    {
     "name": "stdout",
     "output_type": "stream",
     "text": [
      "Enter temperature in degree Fahrenheit: 82\n",
      "The temperature in degree celsius is:  27.77777777777778\n"
     ]
    }
   ],
   "source": [
    "F = eval(input(\"Enter temperature in degree Fahrenheit: \"))\n",
    "Celsius = 5/9*(F-32)\n",
    "print(\"The temperature in degree celsius is: \",Celsius)\n"
   ]
  },
  {
   "cell_type": "markdown",
   "metadata": {},
   "source": [
    "# 3.2"
   ]
  },
  {
   "cell_type": "code",
   "execution_count": 4,
   "metadata": {},
   "outputs": [
    {
     "name": "stdout",
     "output_type": "stream",
     "text": [
      "Enter age: 20\n",
      "Enter name: Hamood Ahmed\n",
      "Enter hits: 32\n",
      "Enter shields13\n",
      "You are still alive!\n",
      "North is available true or false: false\n",
      "East is available true or false: false\n",
      "West is available true or false: false\n",
      "South is available true or false: false\n",
      "I can escape\n"
     ]
    }
   ],
   "source": [
    "#a\n",
    "age = int(input(\"Enter age: \"))\n",
    "if age > 62:\n",
    "    print(\"You can get your pension benefits\")\n",
    "#b\n",
    "lst = ['Musial','Aaraon','Williams','Gehrig','Ruth']\n",
    "name = input(\"Enter name: \")\n",
    "x = name.capitalize()\n",
    "if x in lst:\n",
    "    print(\"One of the top 5 baseball player ever!\")\n",
    "#c\n",
    "hits = eval(input(\"Enter hits: \"))\n",
    "shield = eval(input(\"Enter shields\"))\n",
    "\n",
    "if hits > 10 and shield == 0:\n",
    "    print(\"You are dead!\")\n",
    "else:\n",
    "    print(\"You are still alive!\")\n",
    "#d\n",
    "North = bool(input(\"North is available true or false: \"))\n",
    "East = bool(input(\"East is available true or false: \"))\n",
    "West = bool(input(\"West is available true or false: \"))\n",
    "South = bool(input(\"South is available true or false: \"))\n",
    "\n",
    "if North == True or East == True or West ==True or South == True:\n",
    "    print(\"I can escape\")\n",
    "else:\n",
    "    print(\"I cant escape\")\n",
    "    "
   ]
  },
  {
   "cell_type": "markdown",
   "metadata": {},
   "source": [
    "# 3.3"
   ]
  },
  {
   "cell_type": "code",
   "execution_count": 7,
   "metadata": {},
   "outputs": [
    {
     "name": "stdout",
     "output_type": "stream",
     "text": [
      "Enter year to find the its leap year or not: 2020\n",
      "Could be a leap year\n",
      "Enter lottery number: 4\n",
      "You won!\n"
     ]
    }
   ],
   "source": [
    "#a\n",
    "year = int(input(\"Enter year to find the its leap year or not: \"))\n",
    "if year % 4 == 0:\n",
    "    print(\"Could be a leap year\")\n",
    "else:\n",
    "    print(\"Definitely not a leap year\")\n",
    "#b\n",
    "ticket = ['1','2','3','4']\n",
    "lottery = str(input(\"Enter lottery number: \"))\n",
    "if lottery in ticket:\n",
    "    print(\"You won!\")\n",
    "else:\n",
    "    print(\"Better luck next time!\")\n",
    "    "
   ]
  },
  {
   "cell_type": "markdown",
   "metadata": {},
   "source": [
    "# 3.4"
   ]
  },
  {
   "cell_type": "code",
   "execution_count": 8,
   "metadata": {},
   "outputs": [
    {
     "name": "stdout",
     "output_type": "stream",
     "text": [
      "Login: sue\n",
      "Your are in!\n",
      "Done.\n"
     ]
    }
   ],
   "source": [
    "user = ['joe','sue','hani','sophie']\n",
    "id = str(input(\"Login: \"))\n",
    "if id in user:\n",
    "    print(\"Your are in!\\nDone.\")\n",
    "else:\n",
    "    print(\"User unknown.\\nDone.\")\n"
   ]
  },
  {
   "cell_type": "markdown",
   "metadata": {},
   "source": [
    "# 3.5"
   ]
  },
  {
   "cell_type": "code",
   "execution_count": 10,
   "metadata": {},
   "outputs": [
    {
     "name": "stdout",
     "output_type": "stream",
     "text": [
      "Enter number of string you want to add: 4\n",
      "string: Hamood\n",
      "string: Anzar\n",
      "string: Okasha\n",
      "string: Charan\n",
      "['Hamood', 'Anzar', 'Okasha', 'Charan']\n",
      "Hamood\n",
      "Anzar\n",
      "Okasha\n",
      "Charan\n"
     ]
    }
   ],
   "source": [
    "lst=[]\n",
    "x = int(input(\"Enter number of string you want to add: \"))\n",
    "for i in range(0,x):\n",
    "    y = input(\"string: \")\n",
    "    lst.append(y)\n",
    "print(lst)\n",
    "print(*lst, sep = \"\\n\")\n"
   ]
  },
  {
   "cell_type": "markdown",
   "metadata": {},
   "source": [
    "# 3.6"
   ]
  },
  {
   "cell_type": "code",
   "execution_count": 12,
   "metadata": {},
   "outputs": [
    {
     "name": "stdout",
     "output_type": "stream",
     "text": [
      "1 2 3 4 5 6 7 8 9 10 11 12 13 14 15 16 17 18 19 \n",
      "1 2 3 4 "
     ]
    }
   ],
   "source": [
    "#a\n",
    "for i in range(1,20):\n",
    "    print(i, end=\" \")\n",
    "print(\"\")\n",
    "#b\n",
    "for i in range(1,5):\n",
    "    print(i,end = \" \")\n",
    "    "
   ]
  },
  {
   "cell_type": "markdown",
   "metadata": {},
   "source": [
    "# 3.7"
   ]
  },
  {
   "cell_type": "code",
   "execution_count": 11,
   "metadata": {},
   "outputs": [
    {
     "name": "stdout",
     "output_type": "stream",
     "text": [
      "3\n",
      "4\n",
      "5\n",
      "6\n",
      "7\n",
      "8\n",
      "9\n",
      "10\n",
      "11\n",
      "12\n",
      "0 2 4 6 8  \n",
      "0 3 6 9 12 15 18 21  \n",
      "3 8 "
     ]
    }
   ],
   "source": [
    "#a\n",
    "for i in range(3,13):\n",
    "    print(i)\n",
    "#b\n",
    "for i in range(0,10,2):\n",
    "    print(i, end =\" \")\n",
    "print(\" \")\n",
    "#c\n",
    "for i in range(0,24,3):\n",
    "    print(i, end =\" \")\n",
    "print(\" \")\n",
    "#d\n",
    "for i in range(3,12,5):\n",
    "    print(i, end = \" \")  \n",
    "    "
   ]
  },
  {
   "cell_type": "markdown",
   "metadata": {},
   "source": [
    "# 3.8"
   ]
  },
  {
   "cell_type": "code",
   "execution_count": 14,
   "metadata": {},
   "outputs": [
    {
     "name": "stdout",
     "output_type": "stream",
     "text": [
      "Enter radius in cm: 60\n",
      "Perimeter of circle is:  376.99111843077515 cm\n"
     ]
    }
   ],
   "source": [
    "#a\n",
    "from math import pi\n",
    "def perimeter(radius):\n",
    "    per = 2 * pi * radius\n",
    "    print(\"Perimeter of circle is: \",per,\"cm\")\n",
    "    return\n",
    "radius = eval(input(\"Enter radius in cm: \"))\n",
    "perimeter(radius)\n"
   ]
  },
  {
   "cell_type": "markdown",
   "metadata": {},
   "source": [
    "# 3.9"
   ]
  },
  {
   "cell_type": "code",
   "execution_count": 16,
   "metadata": {},
   "outputs": [
    {
     "name": "stdout",
     "output_type": "stream",
     "text": [
      "Enter number 1: 100\n",
      "Enter number 2: 200\n",
      "Average is:  150.0\n"
     ]
    }
   ],
   "source": [
    "def average(n1,n2):\n",
    "    avg = (n1 + n2) /2\n",
    "    print(\"Average is: \",avg)\n",
    "    return\n",
    "n1 = eval(input(\"Enter number 1: \"))\n",
    "n2 = eval(input(\"Enter number 2: \"))\n",
    "average(n1,n2)\n"
   ]
  },
  {
   "cell_type": "markdown",
   "metadata": {},
   "source": [
    "# 3.10"
   ]
  },
  {
   "cell_type": "code",
   "execution_count": 17,
   "metadata": {},
   "outputs": [
    {
     "name": "stdout",
     "output_type": "stream",
     "text": [
      "Enter string: Reading\n"
     ]
    },
    {
     "data": {
      "text/plain": [
       "False"
      ]
     },
     "execution_count": 17,
     "metadata": {},
     "output_type": "execute_result"
    }
   ],
   "source": [
    "def noVowel(s):\n",
    "    for i in s:\n",
    "        if i in \"AEIOUaeiou\":\n",
    "            return False\n",
    "    return True\n",
    "s = str(input(\"Enter string: \"))\n",
    "noVowel(s)\n"
   ]
  },
  {
   "cell_type": "markdown",
   "metadata": {},
   "source": [
    "# 3.11"
   ]
  },
  {
   "cell_type": "code",
   "execution_count": 21,
   "metadata": {},
   "outputs": [
    {
     "name": "stdout",
     "output_type": "stream",
     "text": [
      "Enter how many number you want to add in list: 6\n",
      "Enter number: 20\n",
      "Enter number: 22\n",
      "Enter number: 24\n",
      "Enter number: 26\n",
      "Enter number: 28\n",
      "Enter number: 30\n",
      "[20, 22, 24, 26, 28, 30]\n"
     ]
    },
    {
     "data": {
      "text/plain": [
       "True"
      ]
     },
     "execution_count": 21,
     "metadata": {},
     "output_type": "execute_result"
    }
   ],
   "source": [
    "#a\n",
    "def allEven(n):\n",
    "    lst=[]\n",
    "    for i in range(0,n):\n",
    "        x = int(input(\"Enter number: \"))\n",
    "        lst.append(x)\n",
    "    print(lst)\n",
    "    for i in lst:\n",
    "        if (i % 2 == 0):\n",
    "            return True\n",
    "    return False\n",
    "n = int(input(\"Enter how many number you want to add in list: \"))\n",
    "allEven(n)\n"
   ]
  },
  {
   "cell_type": "code",
   "execution_count": 20,
   "metadata": {},
   "outputs": [
    {
     "name": "stdout",
     "output_type": "stream",
     "text": [
      "Enter how many number you want to add in list: 5\n",
      "Enter number: 40\n",
      "Enter number: 42\n",
      "Enter number: 44\n",
      "Enter number: 46\n",
      "Enter number: 48\n",
      "[40, 42, 44, 46, 48]\n"
     ]
    },
    {
     "data": {
      "text/plain": [
       "False"
      ]
     },
     "execution_count": 20,
     "metadata": {},
     "output_type": "execute_result"
    }
   ],
   "source": [
    "#b\n",
    "def allEven(n):\n",
    "    lst=[]\n",
    "    for i in range(0,n):\n",
    "        x = int(input(\"Enter number: \"))\n",
    "        lst.append(x)\n",
    "    print(lst)\n",
    "    for i in lst:\n",
    "        if (i % 2 == 0):\n",
    "            return False\n",
    "    return True\n",
    "n = int(input(\"Enter how many number you want to add in list: \"))\n",
    "allEven(n)\n"
   ]
  },
  {
   "cell_type": "markdown",
   "metadata": {},
   "source": [
    "# 3.12"
   ]
  },
  {
   "cell_type": "code",
   "execution_count": 23,
   "metadata": {},
   "outputs": [
    {
     "name": "stdout",
     "output_type": "stream",
     "text": [
      "Enter how many number you want to add in list: 7\n",
      "Enter number: -9\n",
      "Enter number: -11\n",
      "Enter number: -13\n",
      "Enter number: -15\n",
      "Enter number: -17\n",
      "Enter number: -19\n",
      "Enter number: 23\n",
      "[-9, -11, -13, -15, -17, -19, 23]\n",
      "-9\n",
      "-11\n",
      "-13\n",
      "-15\n",
      "-17\n",
      "-19\n"
     ]
    }
   ],
   "source": [
    "def negatives(n):\n",
    "    lst=[]\n",
    "    for i in range(0,n):\n",
    "        x = int(input(\"Enter number: \"))\n",
    "        lst.append(x)\n",
    "    print(lst)\n",
    "    for i in lst:\n",
    "        if i < 0:\n",
    "            print(i)\n",
    "    return\n",
    "n = int(input(\"Enter how many number you want to add in list: \"))\n",
    "negatives(n)\n"
   ]
  },
  {
   "cell_type": "markdown",
   "metadata": {},
   "source": [
    "# 3.13"
   ]
  },
  {
   "cell_type": "code",
   "execution_count": 24,
   "metadata": {},
   "outputs": [
    {
     "name": "stdout",
     "output_type": "stream",
     "text": [
      "Help on function average in module __main__:\n",
      "\n",
      "average(n1, n2)\n",
      "    #a\n",
      "\n"
     ]
    },
    {
     "data": {
      "text/plain": [
       "12.0"
      ]
     },
     "execution_count": 24,
     "metadata": {},
     "output_type": "execute_result"
    }
   ],
   "source": [
    "#a\n",
    "def average(n1,n2):\n",
    "    x = (n1+n2)/2\n",
    "    return x\n",
    "help(average)\n",
    "average(8,16)\n"
   ]
  },
  {
   "cell_type": "code",
   "execution_count": 25,
   "metadata": {},
   "outputs": [
    {
     "name": "stdout",
     "output_type": "stream",
     "text": [
      "Help on function negatives in module __main__:\n",
      "\n",
      "negatives(n)\n",
      "    #b\n",
      "\n",
      "Enter how many number you want to add in list: 8\n",
      "Enter number: -1\n",
      "Enter number: -2\n",
      "Enter number: -5\n",
      "Enter number: -6\n",
      "Enter number: -7\n",
      "Enter number: 7\n",
      "Enter number: 5\n",
      "Enter number: 6\n",
      "[-1, -2, -5, -6, -7, 7, 5, 6]\n",
      "-1\n",
      "-2\n",
      "-5\n",
      "-6\n",
      "-7\n"
     ]
    }
   ],
   "source": [
    "#b\n",
    "def negatives(n):\n",
    "    lst=[]\n",
    "    for i in range(0,n):\n",
    "        x = int(input(\"Enter number: \"))\n",
    "        lst.append(x)\n",
    "    print(lst)\n",
    "    for i in lst:\n",
    "        if i < 0:\n",
    "            print(i)\n",
    "    return\n",
    "help(negatives)\n",
    "n = int(input(\"Enter how many number you want to add in list: \"))\n",
    "negatives(n)\n"
   ]
  },
  {
   "cell_type": "markdown",
   "metadata": {},
   "source": [
    "# 3.14"
   ]
  },
  {
   "cell_type": "code",
   "execution_count": 26,
   "metadata": {},
   "outputs": [
    {
     "name": "stdout",
     "output_type": "stream",
     "text": [
      "[8, 9, 10]\n",
      "[8, 9, 10]\n",
      "5\n"
     ]
    }
   ],
   "source": [
    "a = [8,9,10]\n",
    "print(a)\n",
    "b = a\n",
    "print(b)\n",
    "a = 5\n",
    "print(a)\n"
   ]
  },
  {
   "cell_type": "markdown",
   "metadata": {},
   "source": [
    "# 3.15"
   ]
  },
  {
   "cell_type": "code",
   "execution_count": 4,
   "metadata": {},
   "outputs": [
    {
     "name": "stdout",
     "output_type": "stream",
     "text": [
      "['Ava', 'Eleanor', 'Clare', 'Sarah']\n",
      "['Sarah', 'Eleanor', 'Clare', 'Ava']\n"
     ]
    }
   ],
   "source": [
    "team=['Ava','Eleanor','Clare','Sarah']\n",
    "print(team)\n",
    "temp= team[0]\n",
    "team[0]=team[-1]\n",
    "team[-1]= temp\n",
    "print(team)"
   ]
  },
  {
   "cell_type": "markdown",
   "metadata": {},
   "source": [
    "# 3.16"
   ]
  },
  {
   "cell_type": "code",
   "execution_count": 1,
   "metadata": {},
   "outputs": [
    {
     "name": "stdout",
     "output_type": "stream",
     "text": [
      "['bananas', 'mangoes', 'honey', 'chicken powder']\n",
      "['chicken powder', 'mangoes', 'honey', 'bananas']\n"
     ]
    }
   ],
   "source": [
    "list=['bananas','mangoes','honey','chicken powder']\n",
    "def swapFL():\n",
    "    print(list)\n",
    "    temp = list[0]\n",
    "    list[0] = list[-1]\n",
    "    list[-1] = temp\n",
    "    print(list)\n",
    "    return\n",
    "swapFL()"
   ]
  },
  {
   "cell_type": "markdown",
   "metadata": {},
   "source": [
    "# 3.17"
   ]
  },
  {
   "cell_type": "code",
   "execution_count": 3,
   "metadata": {},
   "outputs": [
    {
     "name": "stdout",
     "output_type": "stream",
     "text": [
      "7\n"
     ]
    },
    {
     "ename": "NameError",
     "evalue": "name 'hello' is not defined",
     "output_type": "error",
     "traceback": [
      "\u001b[1;31m---------------------------------------------------------------------------\u001b[0m",
      "\u001b[1;31mNameError\u001b[0m                                 Traceback (most recent call last)",
      "\u001b[1;32m<ipython-input-3-d39d7b0810cc>\u001b[0m in \u001b[0;36m<module>\u001b[1;34m\u001b[0m\n\u001b[0;32m      3\u001b[0m \u001b[0mprint\u001b[0m\u001b[1;33m(\u001b[0m\u001b[0mx\u001b[0m\u001b[1;33m)\u001b[0m\u001b[1;33m\u001b[0m\u001b[1;33m\u001b[0m\u001b[0m\n\u001b[0;32m      4\u001b[0m \u001b[1;31m#b\u001b[0m\u001b[1;33m\u001b[0m\u001b[1;33m\u001b[0m\u001b[1;33m\u001b[0m\u001b[0m\n\u001b[1;32m----> 5\u001b[1;33m \u001b[0my\u001b[0m \u001b[1;33m=\u001b[0m \u001b[0meval\u001b[0m\u001b[1;33m(\u001b[0m\u001b[1;34m\"hello\"\u001b[0m\u001b[1;33m)\u001b[0m\u001b[1;33m\u001b[0m\u001b[1;33m\u001b[0m\u001b[0m\n\u001b[0m\u001b[0;32m      6\u001b[0m \u001b[1;31m#function only work with mathematical operations,integers and float\u001b[0m\u001b[1;33m\u001b[0m\u001b[1;33m\u001b[0m\u001b[1;33m\u001b[0m\u001b[0m\n\u001b[0;32m      7\u001b[0m \u001b[0mprint\u001b[0m\u001b[1;33m(\u001b[0m\u001b[0my\u001b[0m\u001b[1;33m)\u001b[0m\u001b[1;33m\u001b[0m\u001b[1;33m\u001b[0m\u001b[0m\n",
      "\u001b[1;32m<string>\u001b[0m in \u001b[0;36m<module>\u001b[1;34m\u001b[0m\n",
      "\u001b[1;31mNameError\u001b[0m: name 'hello' is not defined"
     ]
    }
   ],
   "source": [
    "#a\n",
    "x = eval('2*3+1')\n",
    "print(x)\n",
    "#b\n",
    "y = eval(\"hello\")\n",
    "#function only work with mathematical operations,integers and float\n",
    "print(y)\n",
    "#c\n",
    "z = eval(\"'hello'+' '+'world'\")\n",
    "print(z)\n",
    "#d\n",
    "a = eval(\"'ASCII'.count('I')\")\n",
    "print(a)\n",
    "#e\n",
    "b = eval(\"x = 5\")\n",
    "#comarison operator is == not =\n",
    "print(b)\n"
   ]
  },
  {
   "cell_type": "markdown",
   "metadata": {},
   "source": [
    "# 3.18"
   ]
  },
  {
   "cell_type": "code",
   "execution_count": 5,
   "metadata": {},
   "outputs": [
    {
     "name": "stdout",
     "output_type": "stream",
     "text": [
      "OK\n",
      "OK\n"
     ]
    }
   ],
   "source": [
    "a = 3\n",
    "b = 4\n",
    "c = 5\n",
    "#a\n",
    "if a < b:\n",
    "    print(\"OK\")\n",
    "#b\n",
    "if c < b:\n",
    "    print(\"OK\")\n",
    "#c\n",
    "if (a+b) == c:\n",
    "    print(\"OK\")\n",
    "#d\n",
    "if ((a**2)+(b**2)) == (c**2):\n",
    "    print(\"OK\")\n",
    "    "
   ]
  },
  {
   "cell_type": "markdown",
   "metadata": {},
   "source": [
    "# 3.19"
   ]
  },
  {
   "cell_type": "code",
   "execution_count": 6,
   "metadata": {},
   "outputs": [
    {
     "name": "stdout",
     "output_type": "stream",
     "text": [
      "Not OK\n",
      "Not OK\n"
     ]
    }
   ],
   "source": [
    "a = 3\n",
    "b = 4\n",
    "c = 5\n",
    "#a\n",
    "if a < b:\n",
    "    print(\"Not OK\")\n",
    "#b\n",
    "if c < b:\n",
    "    print(\"Not OK\")\n",
    "#c\n",
    "if (a+b) == c:\n",
    "    print(\"Not OK\")\n",
    "#d\n",
    "if ((a**2)+(b**2)) == (c**2):\n",
    "    print(\"Not OK\")\n",
    "    "
   ]
  },
  {
   "cell_type": "markdown",
   "metadata": {},
   "source": [
    "# 3.20"
   ]
  },
  {
   "cell_type": "code",
   "execution_count": 7,
   "metadata": {},
   "outputs": [
    {
     "name": "stdout",
     "output_type": "stream",
     "text": [
      "Jan\n",
      "Feb\n",
      "Mar\n"
     ]
    }
   ],
   "source": [
    "lst = ['January','February','March']\n",
    "for i in lst:\n",
    "    print(i[:3])\n",
    "    "
   ]
  },
  {
   "cell_type": "markdown",
   "metadata": {},
   "source": [
    "# 3.21"
   ]
  },
  {
   "cell_type": "code",
   "execution_count": 8,
   "metadata": {},
   "outputs": [
    {
     "name": "stdout",
     "output_type": "stream",
     "text": [
      "2\n",
      "4\n",
      "6\n",
      "8\n"
     ]
    }
   ],
   "source": [
    "lst = [2,3,4,5,6,7,8,9]\n",
    "for i in lst:\n",
    "    if (i%2 == 0):\n",
    "        print(i)\n",
    "        "
   ]
  },
  {
   "cell_type": "markdown",
   "metadata": {},
   "source": [
    "# 3.22"
   ]
  },
  {
   "cell_type": "code",
   "execution_count": 9,
   "metadata": {},
   "outputs": [
    {
     "name": "stdout",
     "output_type": "stream",
     "text": [
      "4\n",
      "8\n"
     ]
    }
   ],
   "source": [
    "lst = [2,3,4,5,6,7,8,9]\n",
    "for i in lst:\n",
    "    if ((i**2)% 8 == 0):\n",
    "        print(i)\n",
    "        "
   ]
  },
  {
   "cell_type": "markdown",
   "metadata": {},
   "source": [
    "# 3.23"
   ]
  },
  {
   "cell_type": "code",
   "execution_count": 10,
   "metadata": {},
   "outputs": [
    {
     "name": "stdout",
     "output_type": "stream",
     "text": [
      "0 1  \n",
      "0  \n",
      "3 4 5 6  \n",
      "1  \n",
      "0 3  \n",
      "5 9 13 17 21  \n"
     ]
    }
   ],
   "source": [
    "#a\n",
    "for i in range(0,2):\n",
    "    print(i,end= \" \")\n",
    "print(\" \")\n",
    "#b\n",
    "for i in range(0,1):\n",
    "    print(i,end= \" \")\n",
    "print(\" \")\n",
    "#c\n",
    "for i in range(3,7):\n",
    "    print(i,end= \" \")\n",
    "print(\" \")\n",
    "#d\n",
    "for i in range(1,2):\n",
    "    print(i,end= \" \")\n",
    "print(\" \")\n",
    "#e\n",
    "for i in range(0,4,3):\n",
    "    print(i,end= \" \")\n",
    "print(\" \")\n",
    "#f\n",
    "for i in range(5,22,4):\n",
    "    print(i,end= \" \")\n",
    "print(\" \")\n"
   ]
  },
  {
   "cell_type": "markdown",
   "metadata": {},
   "source": [
    "# 3.24"
   ]
  },
  {
   "cell_type": "code",
   "execution_count": 17,
   "metadata": {},
   "outputs": [
    {
     "name": "stdout",
     "output_type": "stream",
     "text": [
      "Enter number of words you want to add in list:  6\n",
      "Enter Word: cia\n",
      "Enter Word: secret\n",
      "Enter Word: isi\n",
      "Enter Word: mi6\n",
      "Enter Word: secret\n",
      "Enter Word: mik\n",
      "['cia', 'secret', 'isi', 'mi6', 'secret', 'mik']\n",
      "['cia', 'isi', 'mi6', 'mik']\n"
     ]
    }
   ],
   "source": [
    "n = int(input(\"Enter number of words you want to add in list:  \"))\n",
    "lst=[]\n",
    "for i in range(0,n):\n",
    "    x = str(input(\"Enter Word: \"))\n",
    "    lst.append(x)\n",
    "print(lst)\n",
    "for j in lst:\n",
    "    if j == \"secret\":\n",
    "        lst.remove(\"secret\")\n",
    "print(lst)"
   ]
  },
  {
   "cell_type": "markdown",
   "metadata": {},
   "source": [
    "# 3.25"
   ]
  },
  {
   "cell_type": "code",
   "execution_count": 18,
   "metadata": {},
   "outputs": [
    {
     "name": "stdout",
     "output_type": "stream",
     "text": [
      "Ellie\n",
      "Gavin\n"
     ]
    }
   ],
   "source": [
    "lst=['Ellie','Steve','Sam','Owen','Gavin']\n",
    "for i in lst:\n",
    "    if i[0] in \"ABCDEFGHIJKLM\":\n",
    "        print(i)\n",
    "        "
   ]
  },
  {
   "cell_type": "markdown",
   "metadata": {},
   "source": [
    "# 3.26"
   ]
  },
  {
   "cell_type": "code",
   "execution_count": 21,
   "metadata": {},
   "outputs": [
    {
     "name": "stdout",
     "output_type": "stream",
     "text": [
      "Enter number of words you want to add in list:  4\n",
      "Enter number: 3\n",
      "Enter number: 5\n",
      "Enter number: 7\n",
      "Enter number: 9\n",
      "[3, 5, 7, 9]\n",
      "the first list element is:  3 \n",
      "The last list element is:  9\n"
     ]
    }
   ],
   "source": [
    "n = int(input(\"Enter number of words you want to add in list:  \"))\n",
    "lst=[]\n",
    "for i in range(0,n):\n",
    "    x = int(input(\"Enter number: \"))\n",
    "    lst.append(x)\n",
    "print(lst)\n",
    "list = [lst[0],lst[-1]]\n",
    "print(\"the first list element is: \",list[0],\"\\nThe last list element is: \",list[1])\n"
   ]
  },
  {
   "cell_type": "markdown",
   "metadata": {},
   "source": [
    "# 3.27"
   ]
  },
  {
   "cell_type": "code",
   "execution_count": 24,
   "metadata": {},
   "outputs": [
    {
     "name": "stdout",
     "output_type": "stream",
     "text": [
      "Enter number: 6\n",
      "0\n",
      "6\n",
      "12\n",
      "18\n"
     ]
    }
   ],
   "source": [
    "n = int(input(\"Enter number: \"))\n",
    "for i in range(0,4):\n",
    "    res = n*i\n",
    "    print(res)\n",
    "    "
   ]
  },
  {
   "cell_type": "markdown",
   "metadata": {},
   "source": [
    "# 3.28"
   ]
  },
  {
   "cell_type": "code",
   "execution_count": 26,
   "metadata": {},
   "outputs": [
    {
     "name": "stdout",
     "output_type": "stream",
     "text": [
      "Enter number: 8\n",
      "0\n",
      "1\n",
      "4\n",
      "9\n"
     ]
    }
   ],
   "source": [
    "n = int(input(\"Enter number: \"))\n",
    "for i in range(0,4):\n",
    "    if i != n:\n",
    "        res = i**2\n",
    "        print(res)\n",
    "        "
   ]
  },
  {
   "cell_type": "markdown",
   "metadata": {},
   "source": [
    "# 3.29"
   ]
  },
  {
   "cell_type": "code",
   "execution_count": 27,
   "metadata": {},
   "outputs": [
    {
     "name": "stdout",
     "output_type": "stream",
     "text": [
      "Enter number: 64\n",
      "1\n",
      "2\n",
      "4\n",
      "8\n",
      "16\n",
      "32\n",
      "64\n"
     ]
    }
   ],
   "source": [
    "n = int(input(\"Enter number: \"))\n",
    "for i in range(1,n+1):\n",
    "    if ( n % i == 0):\n",
    "        print(i)\n",
    "        "
   ]
  },
  {
   "cell_type": "markdown",
   "metadata": {},
   "source": [
    "# 3.30"
   ]
  },
  {
   "cell_type": "code",
   "execution_count": 29,
   "metadata": {},
   "outputs": [
    {
     "name": "stdout",
     "output_type": "stream",
     "text": [
      "Enter number: 4.5\n",
      "Enter number: 3\n",
      "Enter number: 3\n",
      "Enter number: 3.5\n",
      "Equal\n"
     ]
    }
   ],
   "source": [
    "n1 = eval(input(\"Enter number: \"))\n",
    "n2 = eval(input(\"Enter number: \"))\n",
    "n3 = eval(input(\"Enter number: \"))\n",
    "n4 = eval(input(\"Enter number: \"))\n",
    "avg = (n1+n2+n3)/3\n",
    "if avg == n4:\n",
    "    print(\"Equal\")\n",
    "    "
   ]
  },
  {
   "cell_type": "markdown",
   "metadata": {},
   "source": [
    "# 3.31"
   ]
  },
  {
   "cell_type": "code",
   "execution_count": 30,
   "metadata": {},
   "outputs": [
    {
     "name": "stdout",
     "output_type": "stream",
     "text": [
      "Enter x coordinate: 3.5\n",
      "Enter y coordinate: 6\n",
      "It is in!\n"
     ]
    }
   ],
   "source": [
    "x = eval(input(\"Enter x coordinate: \"))\n",
    "y = eval(input(\"Enter y coordinate: \"))\n",
    "if (x and y) <= 10 and (x and y) >= -10:\n",
    "    print(\"It is in!\")\n",
    "    "
   ]
  },
  {
   "cell_type": "markdown",
   "metadata": {},
   "source": [
    "# 3.32"
   ]
  },
  {
   "cell_type": "code",
   "execution_count": 31,
   "metadata": {},
   "outputs": [
    {
     "name": "stdout",
     "output_type": "stream",
     "text": [
      "Enter number: 5678\n",
      "5\n",
      "6\n",
      "7\n",
      "8\n"
     ]
    }
   ],
   "source": [
    "n = int(input(\"Enter number: \"))\n",
    "for i in repr(n):\n",
    "    if i.isdigit():\n",
    "        print(i)\n",
    "        "
   ]
  },
  {
   "cell_type": "markdown",
   "metadata": {},
   "source": [
    "# 3.33"
   ]
  },
  {
   "cell_type": "code",
   "execution_count": 32,
   "metadata": {},
   "outputs": [
    {
     "name": "stdout",
     "output_type": "stream",
     "text": [
      "Enter string: def\n",
      "fed\n",
      "Enter string: ijk\n",
      "kji\n"
     ]
    }
   ],
   "source": [
    "#a\n",
    "def reverse_string(s):\n",
    "    print(s[::-1])\n",
    "    return\n",
    "s = str(input(\"Enter string: \"))\n",
    "reverse_string(s)\n",
    "#b\n",
    "s = str(input(\"Enter string: \"))\n",
    "reverse_string(s)\n"
   ]
  },
  {
   "cell_type": "markdown",
   "metadata": {},
   "source": [
    "# 3.34"
   ]
  },
  {
   "cell_type": "code",
   "execution_count": 33,
   "metadata": {},
   "outputs": [
    {
     "name": "stdout",
     "output_type": "stream",
     "text": [
      "Enter hours employee worked: 25\n",
      "Enter hourly wages of employee: 10\n",
      "Employee payment is:  250\n",
      "Enter hours employee worked: 55\n",
      "Enter hourly wages of employee: 10\n",
      "Employee payment is:  625.0\n"
     ]
    }
   ],
   "source": [
    "def pay(h,w):\n",
    "    if h > 40:\n",
    "        payment = (40*w)+((w*1.5)*(h-40))\n",
    "        print(\"Employee payment is: \",payment)\n",
    "    else:\n",
    "        payment = h*w\n",
    "        print(\"Employee payment is: \",payment)\n",
    "        return\n",
    "h=eval(input(\"Enter hours employee worked: \"))\n",
    "w = eval(input(\"Enter hourly wages of employee: \"))\n",
    "pay(h,w)\n",
    "#b\n",
    "h=eval(input(\"Enter hours employee worked: \"))\n",
    "w = eval(input(\"Enter hourly wages of employee: \"))\n",
    "pay(h,w)\n"
   ]
  },
  {
   "cell_type": "markdown",
   "metadata": {},
   "source": [
    "# 3.35"
   ]
  },
  {
   "cell_type": "code",
   "execution_count": 34,
   "metadata": {},
   "outputs": [
    {
     "name": "stdout",
     "output_type": "stream",
     "text": [
      "Enter number: 3\n",
      "0.125\n",
      "Enter number: 7\n",
      "0.0078125\n"
     ]
    }
   ],
   "source": [
    "#a\n",
    "def prob(n):\n",
    "    p = 2**(-n)\n",
    "    print(p)\n",
    "    return\n",
    "n = int(input(\"Enter number: \"))\n",
    "prob(n)\n",
    "#b\n",
    "n = int(input(\"Enter number: \"))\n",
    "prob(n)\n"
   ]
  },
  {
   "cell_type": "markdown",
   "metadata": {},
   "source": [
    "# 3.36"
   ]
  },
  {
   "cell_type": "code",
   "execution_count": 35,
   "metadata": {},
   "outputs": [
    {
     "name": "stdout",
     "output_type": "stream",
     "text": [
      "Enter number: 456\n",
      "654\n",
      "Enter number: 1000\n",
      "1\n"
     ]
    }
   ],
   "source": [
    "def reverse_int(n):\n",
    "    Reverse = 0\n",
    "    while(n > 0):\n",
    "        Reminder = n %10\n",
    "        Reverse = (Reverse *10) + Reminder\n",
    "        n = n //10\n",
    "    print(Reverse)\n",
    "    return\n",
    "n = int(input(\"Enter number: \"))\n",
    "reverse_int(n)\n",
    "#b\n",
    "n = int(input(\"Enter number: \"))\n",
    "reverse_int(n)\n"
   ]
  },
  {
   "cell_type": "markdown",
   "metadata": {},
   "source": [
    "# 3.37"
   ]
  },
  {
   "cell_type": "code",
   "execution_count": 36,
   "metadata": {},
   "outputs": [
    {
     "name": "stdout",
     "output_type": "stream",
     "text": [
      "Enter x coordinate of first point: 3\n",
      "Enter x coordinate of first point: 4\n",
      "Enter x coordinate of second point: 5\n",
      "Enter x coordinate of second point: 8\n",
      "slope is:  2.0 \n",
      "Distance between two points is:  4.47213595499958 cm\n",
      "Enter x coordinate of first point: 9\n",
      "Enter x coordinate of first point: 7\n",
      "Enter x coordinate of second point: 6\n",
      "Enter x coordinate of second point: 2\n",
      "slope is:  1.6666666666666667 \n",
      "Distance between two points is:  5.830951894845301 cm\n"
     ]
    }
   ],
   "source": [
    "from math import sqrt\n",
    "def point(x1,y1,x2,y2):\n",
    "    if (x1-x2) == 0:\n",
    "        dist = sqrt((x2-x1)**2+(y2-y1)**2)\n",
    "        print(\"slope is infinty and Distance between two points is: \",dist,\"cm\")\n",
    "    else:\n",
    "        slope = (y2-y1)/(x2-x1)\n",
    "        dist = sqrt((x2-x1)**2+(y2-y1)**2)\n",
    "        print(\"slope is: \",slope,\"\\nDistance between two points is: \",dist,\"cm\")\n",
    "    return\n",
    "x1 = eval(input(\"Enter x coordinate of first point: \"))\n",
    "y1 = eval(input(\"Enter x coordinate of first point: \"))\n",
    "x2 = eval(input(\"Enter x coordinate of second point: \"))\n",
    "y2 = eval(input(\"Enter x coordinate of second point: \"))\n",
    "point(x1,y1,x2,y2)\n",
    "#b\n",
    "x1 = eval(input(\"Enter x coordinate of first point: \"))\n",
    "y1 = eval(input(\"Enter x coordinate of first point: \"))\n",
    "x2 = eval(input(\"Enter x coordinate of second point: \"))\n",
    "y2 = eval(input(\"Enter x coordinate of second point: \"))\n",
    "point(x1,y1,x2,y2)\n"
   ]
  },
  {
   "cell_type": "markdown",
   "metadata": {},
   "source": [
    "# 3.38"
   ]
  },
  {
   "cell_type": "code",
   "execution_count": 37,
   "metadata": {},
   "outputs": [
    {
     "name": "stdout",
     "output_type": "stream",
     "text": [
      "Enter day of a week: Thursday\n",
      "Th\n"
     ]
    }
   ],
   "source": [
    "def abbreviation(day):\n",
    "    print(day[:2])\n",
    "    return\n",
    "day = str(input(\"Enter day of a week: \"))\n",
    "abbreviation(day)\n"
   ]
  },
  {
   "cell_type": "markdown",
   "metadata": {},
   "source": [
    "# 3.39"
   ]
  },
  {
   "cell_type": "code",
   "execution_count": 39,
   "metadata": {},
   "outputs": [
    {
     "name": "stdout",
     "output_type": "stream",
     "text": [
      "Enter x coordinate of first circle: 1\n",
      "Enter y coordinate of first circle: 1\n",
      "Enter radius of first circle: 4\n",
      "Enter x coordinate of second circle: 1\n",
      "Enter y coordinate of second circle: 6\n",
      "Enter radius of second circle: 3\n",
      "True\n",
      "Enter x coordinate of first circle: 1\n",
      "Enter y coordinate of first circle: 1\n",
      "Enter radius of first circle: 3.5\n",
      "Enter x coordinate of second circle: 3\n",
      "Enter y coordinate of second circle: 3\n",
      "Enter radius of second circle: 3.5\n",
      "True\n"
     ]
    }
   ],
   "source": [
    "def collision(x1,y1,r1,x2,y2,r2):\n",
    "    if x1 == x2 or r1 == r2:\n",
    "        print(True)\n",
    "    else:\n",
    "        print(False)\n",
    "    return\n",
    "x1 = eval(input(\"Enter x coordinate of first circle: \"))\n",
    "y1 = eval(input(\"Enter y coordinate of first circle: \"))\n",
    "r1 = eval(input(\"Enter radius of first circle: \"))\n",
    "x2 = eval(input(\"Enter x coordinate of second circle: \"))\n",
    "y2 = eval(input(\"Enter y coordinate of second circle: \"))\n",
    "r2 = eval(input(\"Enter radius of second circle: \"))\n",
    "collision(x1,y1,r1,x2,y2,r2)\n",
    "#b\n",
    "x1 = eval(input(\"Enter x coordinate of first circle: \"))\n",
    "y1 = eval(input(\"Enter y coordinate of first circle: \"))\n",
    "r1 = eval(input(\"Enter radius of first circle: \"))\n",
    "x2 = eval(input(\"Enter x coordinate of second circle: \"))\n",
    "y2 = eval(input(\"Enter y coordinate of second circle: \"))\n",
    "r2 = eval(input(\"Enter radius of second circle: \"))\n",
    "collision(x1,y1,r1,x2,y2,r2)\n"
   ]
  },
  {
   "cell_type": "markdown",
   "metadata": {},
   "source": [
    "# 3.40"
   ]
  },
  {
   "cell_type": "code",
   "execution_count": 40,
   "metadata": {},
   "outputs": [
    {
     "name": "stdout",
     "output_type": "stream",
     "text": [
      "Eleanor\n",
      "Evelyn\n",
      "Gavin\n"
     ]
    }
   ],
   "source": [
    "def partition( lst):\n",
    "    for i in lst:\n",
    "        if i[0] in \"ABCDEFGHIJKLM\":\n",
    "            print(i)\n",
    "partition(['Eleanor','Evelyn','Sammy','Owen','Gavin'])\n"
   ]
  },
  {
   "cell_type": "markdown",
   "metadata": {},
   "source": [
    "# 3.41"
   ]
  },
  {
   "cell_type": "code",
   "execution_count": 41,
   "metadata": {},
   "outputs": [
    {
     "name": "stdout",
     "output_type": "stream",
     "text": [
      "Enter First Name: Ronald\n",
      "Enter Last Name: Wilfred\n",
      "Wilfred,R\n"
     ]
    }
   ],
   "source": [
    "def lastF(FirstName,LastName):\n",
    "    x = len(FirstName)\n",
    "    print(LastName+\",\"+FirstName[:1-x])\n",
    "    return\n",
    "FirstName= str(input(\"Enter First Name: \"))\n",
    "LastName= str(input(\"Enter Last Name: \"))\n",
    "lastF(FirstName,LastName)\n"
   ]
  },
  {
   "cell_type": "markdown",
   "metadata": {},
   "source": [
    "# 3.42"
   ]
  },
  {
   "cell_type": "code",
   "execution_count": 44,
   "metadata": {},
   "outputs": [
    {
     "name": "stdout",
     "output_type": "stream",
     "text": [
      " 90.0 \n",
      " 60.0 \n",
      " 87.0 \n",
      " 11.0\n"
     ]
    }
   ],
   "source": [
    "def avg(l1,l2,l3,l4):\n",
    "    a1 = sum(l1)/len(l1)\n",
    "    a2 = sum(l2)/len(l2)\n",
    "    a3 = sum(l3)/len(l3)\n",
    "    a4 = sum(l4)/len(l4)\n",
    "    print(\"\",a1,\"\\n\",a2,\"\\n\",a3,\"\\n\",a4)\n",
    "    return\n",
    "avg([95,92,86,87],[66,54],[89,72,100],[33,0,0])\n",
    "\n"
   ]
  },
  {
   "cell_type": "markdown",
   "metadata": {},
   "source": [
    "# 3.43"
   ]
  },
  {
   "cell_type": "code",
   "execution_count": 45,
   "metadata": {},
   "outputs": [
    {
     "name": "stdout",
     "output_type": "stream",
     "text": [
      "True\n",
      "False\n"
     ]
    }
   ],
   "source": [
    "def hit(x1,y1,r1,x2,y2):\n",
    "    if (x2 <= r1) and (y2 <= r1):\n",
    "        print(True)\n",
    "    else:\n",
    "        print(False)\n",
    "    return\n",
    "hit(1,1,4,4,1)\n",
    "hit(1,1,4,5,1)\n"
   ]
  },
  {
   "cell_type": "markdown",
   "metadata": {},
   "source": [
    "# 3.44"
   ]
  },
  {
   "cell_type": "code",
   "execution_count": 46,
   "metadata": {},
   "outputs": [
    {
     "name": "stdout",
     "output_type": "stream",
     "text": [
      "Distance of thunder is: 1.7014500000000001 km\n"
     ]
    }
   ],
   "source": [
    "def distance(time):\n",
    "    s=340.29\n",
    "    d = s * time\n",
    "    print(\"Distance of thunder is:\",d/1000,\"km\")\n",
    "    return\n",
    "distance(5)\n"
   ]
  },
  {
   "cell_type": "code",
   "execution_count": null,
   "metadata": {},
   "outputs": [],
   "source": []
  }
 ],
 "metadata": {
  "kernelspec": {
   "display_name": "Python 3",
   "language": "python",
   "name": "python3"
  },
  "language_info": {
   "codemirror_mode": {
    "name": "ipython",
    "version": 3
   },
   "file_extension": ".py",
   "mimetype": "text/x-python",
   "name": "python",
   "nbconvert_exporter": "python",
   "pygments_lexer": "ipython3",
   "version": "3.7.3"
  }
 },
 "nbformat": 4,
 "nbformat_minor": 2
}
