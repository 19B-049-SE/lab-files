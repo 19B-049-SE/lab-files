{
 "cells": [
  {
   "cell_type": "code",
   "execution_count": 1,
   "metadata": {},
   "outputs": [
    {
     "name": "stdout",
     "output_type": "stream",
     "text": [
      "a) Monday, December 02 2019\n",
      "b) 08:09 AM Pacific Standard Time on 12/02/2019\n",
      "c) I will meet on Mon December 12 at 08 : 09 AM\n"
     ]
    }
   ],
   "source": [
    "#programming exercise\n",
    "#program no.1\n",
    "import time\n",
    "def strftime():\n",
    "    print(\"a)\",time.strftime(\"%A, %B %d %Y\"))\n",
    "    print(\"b)\",time.strftime(\"%I:%M %p %Z on %m/%d/%Y\"))\n",
    "    print(\"c)\",time.strftime(\"I will meet on %a %B %m at %I : %M %p\"))\n",
    "    return\n",
    "strftime()\n"
   ]
  },
  {
   "cell_type": "code",
   "execution_count": 2,
   "metadata": {},
   "outputs": [
    {
     "name": "stdout",
     "output_type": "stream",
     "text": [
      "a) 2\n",
      "b) 13\n",
      "c) It will be a cloudy day today\n"
     ]
    }
   ],
   "source": [
    "#program no.2\n",
    "def forecast ():\n",
    "    forecast = 'It will be a sunny day today'\n",
    "    print(\"a)\",forecast.count('day'))\n",
    "    print(\"b)\",forecast.find('sunny'))\n",
    "    print(\"c)\",forecast.replace('sunny','cloudy'))\n",
    "    return\n",
    "forecast()\n"
   ]
  },
  {
   "cell_type": "code",
   "execution_count": 3,
   "metadata": {},
   "outputs": [
    {
     "name": "stdout",
     "output_type": "stream",
     "text": [
      "2, 3, 4, 6, 8, 9, 10, 12, 14, 15, 16, "
     ]
    }
   ],
   "source": [
    "#program no.3\n",
    "def even(n):\n",
    "    for i in range(1,n):\n",
    "        if(i%2==0 or i%3==0):\n",
    "            print(i,end=', ')\n",
    "    return\n",
    "even(17)\n"
   ]
  },
  {
   "cell_type": "code",
   "execution_count": 5,
   "metadata": {},
   "outputs": [
    {
     "name": "stdout",
     "output_type": "stream",
     "text": [
      "Enter your First name: Hamood\n",
      "Enter your Last name: Ahmed\n",
      "Enter your Street name: 14th Street\n",
      "Enter your Number: 090078601\n",
      "Enter your City: Toronto\n",
      "Enter your State: Ontario\n",
      "Enter your Zipcode: 6758\n",
      "Hamood\n",
      "Ahmed\n",
      "14th Street\n",
      "090078601\n",
      "Toronto\n",
      "Ontario\n",
      "6758\n"
     ]
    }
   ],
   "source": [
    "#program no.4\n",
    "def mailaddress():\n",
    "    First=str(input(\"Enter your First name: \"))\n",
    "    Last=str(input(\"Enter your Last name: \"))\n",
    "    Street=str(input(\"Enter your Street name: \"))\n",
    "    Number=str(input(\"Enter your Number: \"))\n",
    "    City=str(input(\"Enter your City: \"))\n",
    "    State=str(input(\"Enter your State: \"))\n",
    "    Zipcode=eval(input(\"Enter your Zipcode: \"))\n",
    "    print(First)\n",
    "    print(Last)\n",
    "    print(Street)\n",
    "    print(Number)\n",
    "    print(City)\n",
    "    print(State)\n",
    "    print(Zipcode)\n",
    "    return\n",
    "mailaddress()\n"
   ]
  },
  {
   "cell_type": "code",
   "execution_count": 6,
   "metadata": {},
   "outputs": [
    {
     "name": "stdout",
     "output_type": "stream",
     "text": [
      "Jan\n",
      "Nov\n"
     ]
    }
   ],
   "source": [
    "#program no.5\n",
    "def month():\n",
    "    month = ['Jan','Feb','Mar','Apr','May','Jun','Jul','Aug','Sep','Oct','Nov','Dec']\n",
    "    print(month[0])\n",
    "    print(month[10])\n",
    "    return\n",
    "month()\n"
   ]
  },
  {
   "cell_type": "code",
   "execution_count": 10,
   "metadata": {},
   "outputs": [
    {
     "name": "stdout",
     "output_type": "stream",
     "text": [
      "How do you spell winner?\n",
      "I know, I know\n",
      "UITIANS!\n",
      "And that's how you spell winner.!\n",
      "Go Uitians!\n"
     ]
    }
   ],
   "source": [
    "#Program no.6\n",
    "def cheer():\n",
    "    print(\"How do you spell winner?\")\n",
    "    print(\"I know, I know\")\n",
    "    print(\"UITIANS!\")\n",
    "    print(\"And that's how you spell winner.!\")\n",
    "    print(\"Go Uitians!\")\n",
    "    return\n",
    "cheer()\n",
    "\n"
   ]
  },
  {
   "cell_type": "code",
   "execution_count": 12,
   "metadata": {},
   "outputs": [
    {
     "name": "stdout",
     "output_type": "stream",
     "text": [
      "Enter your name: Hamood Ahmed\n",
      "Hamood Ahmed\n",
      "Enter the type of burger: KFC Zinger Burger\n",
      "KFC Zinger Burger\n",
      "Enter its quantity: 2\n",
      "The no. of burgers are:  2.0\n",
      "Enter its rate: 150\n",
      "The rate is:  150.0\n",
      "The amount is:  300.0\n",
      "The GST of amount is:  39.0\n",
      "The total amount with GST:  339.0\n",
      "Enter today's date: 2-12-2019\n",
      "The date is:  2-12-2019\n"
     ]
    }
   ],
   "source": [
    "#program no.7\n",
    "import time\n",
    "def POS():\n",
    "    print(input(\"Enter your name: \"))\n",
    "    print(input(\"Enter the type of burger: \"))\n",
    "    Quantity = (float(input(\"Enter its quantity: \")))\n",
    "    print(\"The no. of burgers are: \",Quantity)\n",
    "    Rate = (float(input(\"Enter its rate: \")))\n",
    "    print(\"The rate is: \",Rate)\n",
    "    amount = (Quantity * Rate)\n",
    "    print(\"The amount is: \", amount)\n",
    "    GST = 13/100 * amount          \n",
    "    print(\"The GST of amount is: \", GST)\n",
    "    Total_amount = amount + GST\n",
    "    print(\"The total amount with GST: \",Total_amount)\n",
    "    Dated = input(\"Enter today's date: \")\n",
    "    print(\"The date is: \", Dated)\n",
    "    return\n",
    "POS()\n"
   ]
  },
  {
   "cell_type": "code",
   "execution_count": null,
   "metadata": {},
   "outputs": [],
   "source": []
  }
 ],
 "metadata": {
  "kernelspec": {
   "display_name": "Python 3",
   "language": "python",
   "name": "python3"
  },
  "language_info": {
   "codemirror_mode": {
    "name": "ipython",
    "version": 3
   },
   "file_extension": ".py",
   "mimetype": "text/x-python",
   "name": "python",
   "nbconvert_exporter": "python",
   "pygments_lexer": "ipython3",
   "version": "3.7.3"
  }
 },
 "nbformat": 4,
 "nbformat_minor": 2
}
