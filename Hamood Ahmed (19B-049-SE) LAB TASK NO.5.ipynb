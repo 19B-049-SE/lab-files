{
 "cells": [
  {
   "cell_type": "code",
   "execution_count": 1,
   "metadata": {},
   "outputs": [
    {
     "name": "stdout",
     "output_type": "stream",
     "text": [
      "enter the value of radius:6\n",
      "enter the value of height:8\n",
      "527.7875658030853 The area of cylinder\n",
      "enter the value of radius:7\n",
      "enter the value of height:8\n",
      "1231.5043202071988 The volume of cylinder\n"
     ]
    }
   ],
   "source": [
    "#Programming Exercise\n",
    "#Program no.1\n",
    "#function of Area of cylinder\n",
    "from math import pi\n",
    "r=int(input(\"enter the value of radius:\"))\n",
    "h=int(input(\"enter the value of height:\"))\n",
    "def area(pi,r,h):\n",
    "    area=2*pi*r*h+2*pi*r**2\n",
    "    return area\n",
    "print(area(pi,r,h),\"The area of cylinder\")\n",
    "\n",
    "#function of Volume of cylinder\n",
    "r=int(input(\"enter the value of radius:\"))\n",
    "h=int(input(\"enter the value of height:\"))\n",
    "def volume(pi,r,h):\n",
    "    volume=pi*r**2*h\n",
    "    return volume\n",
    "print(volume(pi,r,h),\"The volume of cylinder\")\n"
   ]
  },
  {
   "cell_type": "code",
   "execution_count": 6,
   "metadata": {},
   "outputs": [
    {
     "name": "stdout",
     "output_type": "stream",
     "text": [
      "Enter the length of the cylinder:7\n",
      "Enter the breadth of the cylinder:9\n",
      "Enter the height of the cylinder:2\n",
      "63 The area of the cylinder\n",
      "126 The volume of cylinder\n"
     ]
    }
   ],
   "source": [
    "#Program no.2\n",
    "#function for calculating the area and volume of the cylinder\n",
    "from math import pi\n",
    "l=int(input(\"Enter the length of the cylinder:\"))\n",
    "b=int(input(\"Enter the breadth of the cylinder:\"))\n",
    "h=int(input(\"Enter the height of the cylinder:\"))\n",
    "def area(l,b):\n",
    "    area=l*b\n",
    "    return area\n",
    "print(area(l,b),\"The area of the cylinder\")\n",
    "\n",
    "def volume(l,b,h):\n",
    "    volume=l*b*h\n",
    "    return volume\n",
    "print(volume(l,b,h),\"The volume of cylinder\")\n"
   ]
  },
  {
   "cell_type": "code",
   "execution_count": 3,
   "metadata": {},
   "outputs": [
    {
     "name": "stdout",
     "output_type": "stream",
     "text": [
      "Enter the value of first term:3\n",
      "Enter the value of common difference:6\n",
      "Enter the value of number of terms:45\n",
      "267\n",
      "Do you want to continue:YES\n"
     ]
    }
   ],
   "source": [
    "#Program no.3\n",
    "#Function for calculating the arithmetic sequence of n numbers.\n",
    "def sequence():\n",
    "    a1=int(input(\"Enter the value of first term:\"))\n",
    "    d=int(input(\"Enter the value of common difference:\"))\n",
    "    n=int(input(\"Enter the value of number of terms:\"))\n",
    "    an=a1+(n-1)*d\n",
    "    print(an)\n",
    "    if n>0:\n",
    "        ask=input(\"Do you want to continue:\")\n",
    "        if ask==\"yes\":\n",
    "            n=int(input(\"Enter the value of number of terms:\"))\n",
    "            a1=int(input(\"Enter the value of first term:\"))\n",
    "            d=int(input(\"Enter the value of common difference:\"))\n",
    "            print(an)\n",
    "            if n>0:\n",
    "                n=int(input(\"Enter the value of number of terms:\"))\n",
    "                a1=int(input(\"Enter the value of first term:\"))\n",
    "                d=int(input(\"Enter the value of common difference:\"))\n",
    "                an=a1+(n-1)*d\n",
    "                print(an)\n",
    "\n",
    "sequence()\n"
   ]
  },
  {
   "cell_type": "code",
   "execution_count": 7,
   "metadata": {},
   "outputs": [
    {
     "name": "stdout",
     "output_type": "stream",
     "text": [
      "Enter a name:Hamood\n",
      "Your string is not Palindrome\n"
     ]
    }
   ],
   "source": [
    "#Program no.4\n",
    "name=input(\"Enter a name:\")\n",
    "name1=name.casefold()\n",
    "def palindrome(name1):\n",
    "    reverse=name1[::-1]\n",
    "    if name1==reverse:\n",
    "         return 'Your string is Palindrome'\n",
    "    else:\n",
    "        return  'Your string is not Palindrome'\n",
    "print(palindrome(name1))\n"
   ]
  },
  {
   "cell_type": "code",
   "execution_count": 1,
   "metadata": {},
   "outputs": [],
   "source": [
    "#Program no.5\n",
    "def f_marksheet(sub_1,sub_2,sub_3,sub_4,sub_5):\n",
    "    total=(sub_1+sub_2+sub_3+sub_4+sub_5)/5\n",
    "    if total>=80:\n",
    "        print(\"A+\")\n",
    "    elif(total<=79 and total>=70):\n",
    "        print(\"A\")\n",
    "    elif(total<=69 and total>=60):\n",
    "        print(\"b\")\n",
    "        "
   ]
  },
  {
   "cell_type": "code",
   "execution_count": 3,
   "metadata": {
    "scrolled": true
   },
   "outputs": [
    {
     "name": "stdout",
     "output_type": "stream",
     "text": [
      "Enter the initial velocity:4\n",
      "Enter the acceleration:5\n",
      "Enter the time:6\n",
      "The final velocity is: 34 m/sec\n",
      "\n",
      "\n",
      "Enter the initial velocity:3\n",
      "Enter the acceleration:7\n",
      "Enter the time:9\n",
      "The distnace is: 310.5 m\n",
      "\n",
      "\n",
      "Enter the initial velocity:2\n",
      "Enter the distance:6\n",
      "Enter the final velocity:9\n",
      "The acceleration is: 6.416666666666667 m/s.sq\n"
     ]
    }
   ],
   "source": [
    "#program no.6\n",
    "def first_law():\n",
    "    v1=int(input(\"Enter the initial velocity:\"))\n",
    "    a=int(input(\"Enter the acceleration:\"))\n",
    "    t=int(input(\"Enter the time:\"))\n",
    "    v2=v1+a*t\n",
    "    print(\"The final velocity is:\",v2,'m/sec')\n",
    "first_law()\n",
    "\n",
    "print(\"\\n\")\n",
    "\n",
    "def second_law():\n",
    "    v1=int(input(\"Enter the initial velocity:\"))\n",
    "    a=int(input(\"Enter the acceleration:\"))\n",
    "    t=int(input(\"Enter the time:\"))\n",
    "    dist=(v1*t)+1/2*(a*t**2)\n",
    "    print(\"The distnace is:\",dist,'m')\n",
    "second_law()\n",
    "\n",
    "print(\"\\n\")\n",
    "\n",
    "def third_law():\n",
    "    v1=int(input(\"Enter the initial velocity:\"))\n",
    "    s=int(input(\"Enter the distance:\"))\n",
    "    v2=int(input(\"Enter the final velocity:\"))\n",
    "    a=(v2**2-v1**2)/(2*s)\n",
    "    print(\"The acceleration is:\",a,'m/s.sq')\n",
    "third_law()\n"
   ]
  },
  {
   "cell_type": "code",
   "execution_count": 4,
   "metadata": {},
   "outputs": [
    {
     "name": "stdout",
     "output_type": "stream",
     "text": [
      "Enter the velocity if projectile:32\n",
      "Enter the angle:60\n",
      "Enter the acceleration due to gravity:9.8\n",
      "The height of projectile is: 39.18367346938775 m\n"
     ]
    }
   ],
   "source": [
    "#Program no.7\n",
    "def projectile():\n",
    "    from math import sin\n",
    "    from math import pi\n",
    "    v=int(input(\"Enter the velocity if projectile:\"))\n",
    "    angle=int(input(\"Enter the angle:\"))\n",
    "    g=float(input(\"Enter the acceleration due to gravity:\"))\n",
    "    angle_R=(angle*pi)/180\n",
    "    H=(v**2*sin(angle_R)**2)/(2*g)\n",
    "    print(\"The height of projectile is:\",H,'m')\n",
    "projectile()\n"
   ]
  },
  {
   "cell_type": "code",
   "execution_count": 11,
   "metadata": {},
   "outputs": [
    {
     "name": "stdout",
     "output_type": "stream",
     "text": [
      "Enter a name:Hamood Ahmed\n",
      "demhA doomaH\n"
     ]
    }
   ],
   "source": [
    "#program no.8\n",
    "name=input(\"Enter a name:\")\n",
    "def reverse(name):\n",
    "    rev=name[::-1]\n",
    "    return rev\n",
    "print(reverse(name))\n"
   ]
  },
  {
   "cell_type": "code",
   "execution_count": null,
   "metadata": {},
   "outputs": [
    {
     "name": "stdout",
     "output_type": "stream",
     "text": [
      "\n",
      " Do you want to encrypt or decrypt the message?\n",
      " 1 to encrypt, 2 to decrypt or 0 to exit program. 1\n",
      "\n",
      "Enter message for encryption: my name is hamood ahmed\n",
      "kw\u001e",
      "l_kc\u001e",
      "gq\u001e",
      "f_kmmb\u001e",
      "_fkcb\n",
      "\n",
      "\n",
      "You have entered an invalid input, please try again. \n",
      "\n",
      "\n",
      "\n",
      " Do you want to encrypt or decrypt the message?\n",
      " 1 to encrypt, 2 to decrypt or 0 to exit program. 0\n",
      "\n",
      " Do you want to encrypt or decrypt the message?\n",
      " 1 to encrypt, 2 to decrypt or 0 to exit program. 2\n",
      "\n",
      "Enter message to decrypt: whats your name\n",
      "yjcvu\"{qwt\"pcog\n",
      "\n",
      "\n"
     ]
    }
   ],
   "source": [
    "#program no.9\n",
    "result = ''\n",
    "choice = ''\n",
    "message = ''\n",
    "\n",
    "while choice != 0:\n",
    "    choice = input(\"\\n Do you want to encrypt or decrypt the message?\\n 1 to encrypt, 2 to decrypt or 0 to exit program. \")\n",
    "\n",
    "    if choice == '1':\n",
    "        message = input('\\nEnter message for encryption: ')\n",
    "        for i in range(0, len(message)):\n",
    "            result = result + chr(ord(message[i]) - 2)\n",
    "\n",
    "        print(result + '\\n\\n')\n",
    "        result = ''\n",
    "\n",
    "    if choice == '2':\n",
    "        message = input('\\nEnter message to decrypt: ')\n",
    "        for i in range(0, len(message)):\n",
    "            result = result + chr(ord(message[i]) + 2)\n",
    "\n",
    "        print(result + '\\n\\n')\n",
    "        result = ''\n",
    "\n",
    "    elif choice != '0':\n",
    "        print('You have entered an invalid input, please try again. \\n\\n')\n",
    "        "
   ]
  },
  {
   "cell_type": "code",
   "execution_count": 12,
   "metadata": {},
   "outputs": [
    {
     "name": "stdout",
     "output_type": "stream",
     "text": [
      "sin= 0.8414709848078965 \t\t cos= 0.5403023058681398 \t\t tan= 1.5574077246549023\n",
      "sin= 0.9092974268256817 \t\t cos= -0.4161468365471424 \t\t tan= -2.185039863261519\n",
      "sin= 0.1411200080598672 \t\t cos= -0.9899924966004454 \t\t tan= -0.1425465430742778\n",
      "sin= -0.7568024953079282 \t\t cos= -0.6536436208636119 \t\t tan= 1.1578212823495775\n",
      "sin= -0.9589242746631385 \t\t cos= 0.28366218546322625 \t\t tan= -3.380515006246586\n",
      "sin= -0.27941549819892586 \t\t cos= 0.960170286650366 \t\t tan= -0.29100619138474915\n",
      "sin= 0.6569865987187891 \t\t cos= 0.7539022543433046 \t\t tan= 0.8714479827243188\n",
      "sin= 0.9893582466233818 \t\t cos= -0.14550003380861354 \t\t tan= -6.799711455220379\n",
      "sin= 0.4121184852417566 \t\t cos= -0.9111302618846769 \t\t tan= -0.45231565944180985\n",
      "sin= -0.5440211108893698 \t\t cos= -0.8390715290764524 \t\t tan= 0.6483608274590866\n"
     ]
    }
   ],
   "source": [
    "#program no.10\n",
    "from math import sin\n",
    "from math import cos\n",
    "from math import tan\n",
    "def trigonometry(sin,cos,tan):\n",
    "    for i in range(1,11):\n",
    "        x=sin(i)\n",
    "        y=cos(i)\n",
    "        z=tan(i)\n",
    "        print(str('sin='),x,\"\\t\\t\",str('cos='),y,\"\\t\\t\",str('tan='),z)\n",
    "trigonometry(sin,cos,tan)\n"
   ]
  },
  {
   "cell_type": "code",
   "execution_count": 1,
   "metadata": {},
   "outputs": [
    {
     "name": "stdout",
     "output_type": "stream",
     "text": [
      "The perimeter of semi circle is 43.982297150257104 cm^2\n",
      "The area of semi-circle is  76.96902001294993 cm^2\n"
     ]
    }
   ],
   "source": [
    "#program no.11\n",
    "d=14\n",
    "r=d/2\n",
    "import math\n",
    "perimeter=2*math.pi*r\n",
    "area= math.pi*r**2/2\n",
    "print(\"The perimeter of semi circle is\",perimeter,\"cm^2\")\n",
    "print(\"The area of semi-circle is \",area,\"cm^2\")\n"
   ]
  },
  {
   "cell_type": "code",
   "execution_count": 4,
   "metadata": {},
   "outputs": [
    {
     "name": "stdout",
     "output_type": "stream",
     "text": [
      "Enter your final condition where you want to break the loop:5\n",
      "the value of count: 0\n",
      "I am using while loop 1 time.\n",
      "the value of count: 1\n",
      "I am using while loop 2 time.\n",
      "the value of count: 2\n",
      "I am using while loop 3 time.\n",
      "the value of count: 3\n",
      "I am using while loop 4 time.\n",
      "the value of count: 4\n",
      "I am using while loop 5 time.\n"
     ]
    }
   ],
   "source": [
    "#program no.1\n",
    "count=0\n",
    "f=eval(input(\"Enter your final condition where you want to break the loop:\"))\n",
    "\n",
    "while(count<f):\n",
    "    print(\"the value of count:\",count)\n",
    "    count=count+1\n",
    "    print(\"I am using while loop\",count,\"time.\")\n",
    "    "
   ]
  },
  {
   "cell_type": "code",
   "execution_count": null,
   "metadata": {},
   "outputs": [
    {
     "name": "stdout",
     "output_type": "stream",
     "text": [
      "Enter a number :5\n",
      "You entered:  5\n",
      "Enter a number :6\n",
      "You entered:  6\n"
     ]
    }
   ],
   "source": [
    "#program no.2\n",
    "var=1\n",
    "while var==1: #This will generate an infinite loop,as condition is always true\n",
    "    num=eval(input(\"Enter a number :\"))\n",
    "    print(\"You entered: \",num)\n",
    "print(\"End of loop!\")\n",
    "# use Ctrl+C to break the loop\n"
   ]
  },
  {
   "cell_type": "code",
   "execution_count": 1,
   "metadata": {},
   "outputs": [
    {
     "name": "stdout",
     "output_type": "stream",
     "text": [
      "Enter the value to execute while loop:7\n",
      "The sum is: 28\n"
     ]
    }
   ],
   "source": [
    "#program no.3\n",
    "n=eval(input(\"Enter the value to execute while loop:\"))\n",
    "sum=0\n",
    "i=1\n",
    "while i<=n:\n",
    "    sum=sum+i\n",
    "    i=i+1\n",
    "print(\"The sum is:\",sum)\n"
   ]
  },
  {
   "cell_type": "code",
   "execution_count": 2,
   "metadata": {},
   "outputs": [
    {
     "name": "stdout",
     "output_type": "stream",
     "text": [
      "0 is les than final condition\n",
      "1 is les than final condition\n",
      "2 is les than final condition\n",
      "3 is les than final condition\n",
      "4 is les than final condition\n",
      "5 is les than final condition\n",
      "6 is les than final condition\n",
      "7 is les than final condition\n",
      "8 is les than final condition\n",
      "9 is les than final condition\n",
      "10 is not les than final condition\n"
     ]
    }
   ],
   "source": [
    "#program no.4\n",
    "i=0\n",
    "f=10\n",
    "while i<f:\n",
    "    print(i,\"is les than final condition\")\n",
    "    i=i+1\n",
    "else:\n",
    "    print(i,\"is not les than final condition\")\n",
    "    "
   ]
  },
  {
   "cell_type": "code",
   "execution_count": 3,
   "metadata": {},
   "outputs": [
    {
     "name": "stdout",
     "output_type": "stream",
     "text": [
      "101\n"
     ]
    }
   ],
   "source": [
    "#program no.5\n",
    "def f(x):\n",
    "    res=x**2 + 1\n",
    "    return res\n",
    "x=10\n",
    "print(f(x))\n"
   ]
  },
  {
   "cell_type": "code",
   "execution_count": 4,
   "metadata": {},
   "outputs": [
    {
     "data": {
      "text/plain": [
       "['U', 'f', 'p', 'n', 'x', 'y', 'f', 's']"
      ]
     },
     "execution_count": 4,
     "metadata": {},
     "output_type": "execute_result"
    }
   ],
   "source": [
    "#program no.7\n",
    "def caesar_encrypt(realText,step):\n",
    "    outText = []\n",
    "    cryptText = []\n",
    "    \n",
    "    uppercase = ['a', 'b', 'c', 'd', 'e', 'f', 'g', 'h', 'i', 'j', 'k', 'l', 'm', 'n', 'o', 'p', 'q', 'r', 's', 't', 'u', 'v', 'w', 'x', 'y', 'z']\n",
    "    lowercase = ['A','B', 'C', 'D', 'E', 'F', 'G', 'H', 'I', 'J', 'K', 'L', 'M', 'N', 'O', 'P', 'Q', 'R', 'S', 'T', 'U', 'V', 'W', 'X', 'Y', 'Z']\n",
    "    \n",
    "    for eachLetter in realText:\n",
    "        if eachLetter in uppercase:\n",
    "            index = uppercase.index(eachLetter)\n",
    "            crypting = (index+step)%26\n",
    "            cryptText.append(crypting)\n",
    "            newLetter = uppercase[crypting]\n",
    "            outText.append(newLetter)\n",
    "        elif eachLetter in lowercase:\n",
    "            index = lowercase.index(eachLetter)\n",
    "            crypting = (index+step)%26\n",
    "            cryptText.append(crypting)\n",
    "            newLetter=lowercase[crypting]\n",
    "            outText.append(newLetter)\n",
    "    return outText\n",
    "caesar_encrypt ('Pakistan',5)\n"
   ]
  },
  {
   "cell_type": "code",
   "execution_count": 5,
   "metadata": {},
   "outputs": [
    {
     "name": "stdout",
     "output_type": "stream",
     "text": [
      "[1, 8, 27, 64, 125, 216]\n",
      "[15625, 17576, 19683, 21952, 24389, 27000]\n"
     ]
    }
   ],
   "source": [
    "#program no.6\n",
    "def CubeValues():\n",
    "       lst =list()\n",
    "       for i in range(1,31):\n",
    "           lst.append(i**3)\n",
    "       print(lst[:6])\n",
    "       print(lst[-6:])\n",
    "\n",
    "CubeValues()\n"
   ]
  },
  {
   "cell_type": "code",
   "execution_count": null,
   "metadata": {},
   "outputs": [],
   "source": []
  }
 ],
 "metadata": {
  "kernelspec": {
   "display_name": "Python 3",
   "language": "python",
   "name": "python3"
  },
  "language_info": {
   "codemirror_mode": {
    "name": "ipython",
    "version": 3
   },
   "file_extension": ".py",
   "mimetype": "text/x-python",
   "name": "python",
   "nbconvert_exporter": "python",
   "pygments_lexer": "ipython3",
   "version": "3.7.3"
  }
 },
 "nbformat": 4,
 "nbformat_minor": 2
}
